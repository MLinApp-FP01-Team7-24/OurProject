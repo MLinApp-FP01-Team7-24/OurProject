{
  "cells": [
    {
      "cell_type": "code",
      "execution_count": 1,
      "metadata": {
        "id": "wLucIIVc2h-v"
      },
      "outputs": [],
      "source": [
        "import numpy as np\n",
        "import pandas as pd\n",
        "import matplotlib.pyplot as plt\n",
        "import os\n",
        "\n",
        "import sklearn\n",
        "from sklearn.svm import SVC\n",
        "from sklearn.calibration import CalibratedClassifierCV\n",
        "from sklearn.model_selection import GridSearchCV\n",
        "\n",
        "import tensorflow as tf\n",
        "\n",
        "\n",
        "np.random.seed(0)\n",
        "tf.random.set_seed(0)"
      ]
    },
    {
      "cell_type": "code",
      "execution_count": 2,
      "metadata": {
        "colab": {
          "base_uri": "https://localhost:8080/"
        },
        "id": "CXM4zKFe2pOQ",
        "outputId": "ffb5bbb7-99f9-4ab5-e4af-4c9b653fff3b"
      },
      "outputs": [
        {
          "name": "stdout",
          "output_type": "stream",
          "text": [
            "Cloning into 'OurProject'...\n",
            "remote: Enumerating objects: 1053, done.\u001b[K\n",
            "remote: Counting objects: 100% (39/39), done.\u001b[K\n",
            "remote: Compressing objects: 100% (31/31), done.\u001b[K\n",
            "remote: Total 1053 (delta 14), reused 31 (delta 8), pack-reused 1014\u001b[K\n",
            "Receiving objects: 100% (1053/1053), 128.88 MiB | 9.81 MiB/s, done.\n",
            "Resolving deltas: 100% (215/215), done.\n",
            "Updating files: 100% (108/108), done.\n",
            "/content/OurProject\n"
          ]
        }
      ],
      "source": [
        "!git clone https://github.com/MLinApp-FP01-Team7-24/OurProject.git\n",
        "%cd OurProject"
      ]
    },
    {
      "cell_type": "code",
      "execution_count": 3,
      "metadata": {
        "id": "KFzva7Q62k2r"
      },
      "outputs": [],
      "source": [
        "window_size = 20\n",
        "k_pa = 1 # valori tra 0 e 1"
      ]
    },
    {
      "cell_type": "code",
      "execution_count": 4,
      "metadata": {
        "colab": {
          "base_uri": "https://localhost:8080/"
        },
        "id": "k08kolJM2ruF",
        "outputId": "90399695-385a-480d-f4b3-ce55b2b8236e"
      },
      "outputs": [
        {
          "name": "stdout",
          "output_type": "stream",
          "text": [
            "Reading training data...\n",
            "Reading calibration data...\n",
            "Reading test data...\n",
            "Reading collisions data...\n",
            "Normalizing data...\n",
            "Getting windows for training data...\n",
            "Getting windows and labels for calibration data...\n",
            "Getting windows and labels for test data...\n",
            "(95795, 20, 55)\n",
            "(3480, 20, 55) (3480,)\n",
            "(30755, 20, 55) (30755,)\n"
          ]
        }
      ],
      "source": [
        "from Models.lstm_vae.data import get_data_windows\n",
        "\n",
        "data_train, data_cal, label_cal, data_test, label_test = get_data_windows(window_size, k_pa)\n",
        "\n",
        "print(data_train.shape)\n",
        "print(data_cal.shape, label_cal.shape)\n",
        "print(data_test.shape, label_test.shape)\n"
      ]
    },
    {
      "cell_type": "code",
      "execution_count": 5,
      "metadata": {
        "id": "SsxwWBC4DNON"
      },
      "outputs": [],
      "source": [
        "x_dim = data_train.shape[2]\n",
        "lstm_h_dim = 10\n",
        "z_dim = 10\n",
        "\n",
        "batch_size = 64\n",
        "epoch_num = 10"
      ]
    },
    {
      "cell_type": "code",
      "execution_count": 6,
      "metadata": {
        "colab": {
          "base_uri": "https://localhost:8080/"
        },
        "id": "dTc810ls3gdd",
        "outputId": "dbd25cd9-10b5-4e25-c93f-58afe83c4caf"
      },
      "outputs": [
        {
          "name": "stdout",
          "output_type": "stream",
          "text": [
            "Epoch 1/50\n",
            "1496/1496 [==============================] - 34s 19ms/step - loss: 0.1996 - lr: 0.0010\n",
            "Epoch 2/50\n",
            "1496/1496 [==============================] - 28s 19ms/step - loss: 0.1095 - lr: 9.0000e-04\n",
            "Epoch 3/50\n",
            "1496/1496 [==============================] - 28s 18ms/step - loss: 0.1078 - lr: 8.1000e-04\n",
            "Epoch 4/50\n",
            "1496/1496 [==============================] - 29s 20ms/step - loss: 0.1073 - lr: 7.2900e-04\n",
            "Epoch 5/50\n",
            "1496/1496 [==============================] - 29s 19ms/step - loss: 0.1071 - lr: 6.5610e-04\n",
            "Epoch 6/50\n",
            "1496/1496 [==============================] - 25s 17ms/step - loss: 0.1071 - lr: 5.9049e-04\n",
            "Epoch 7/50\n",
            "1496/1496 [==============================] - 26s 17ms/step - loss: 0.1072 - lr: 5.3144e-04\n",
            "Epoch 8/50\n",
            "1496/1496 [==============================] - 27s 18ms/step - loss: 0.1073 - lr: 4.7830e-04\n",
            "Epoch 9/50\n",
            "1496/1496 [==============================] - 26s 17ms/step - loss: 0.1075 - lr: 4.3047e-04\n",
            "Epoch 10/50\n",
            "1496/1496 [==============================] - 27s 18ms/step - loss: 0.1077 - lr: 3.8742e-04\n",
            "Epoch 11/50\n",
            "1496/1496 [==============================] - 27s 18ms/step - loss: 0.1079 - lr: 3.4868e-04\n",
            "Epoch 12/50\n",
            "1496/1496 [==============================] - 30s 20ms/step - loss: 0.1081 - lr: 3.1381e-04\n",
            "Epoch 13/50\n",
            "1496/1496 [==============================] - 27s 18ms/step - loss: 0.1084 - lr: 2.8243e-04\n",
            "Epoch 14/50\n",
            "1496/1496 [==============================] - 27s 18ms/step - loss: 0.1087 - lr: 2.5419e-04\n",
            "Epoch 15/50\n",
            "1496/1496 [==============================] - 26s 18ms/step - loss: 0.1089 - lr: 2.2877e-04\n",
            "Epoch 16/50\n",
            "1496/1496 [==============================] - 30s 20ms/step - loss: 0.1092 - lr: 2.0589e-04\n",
            "Epoch 17/50\n",
            "1496/1496 [==============================] - 28s 19ms/step - loss: 0.1094 - lr: 1.8530e-04\n",
            "Epoch 18/50\n",
            "1496/1496 [==============================] - 27s 18ms/step - loss: 0.1097 - lr: 1.6677e-04\n",
            "Epoch 19/50\n",
            "1496/1496 [==============================] - 26s 17ms/step - loss: 0.1099 - lr: 1.5009e-04\n",
            "Epoch 20/50\n",
            "1496/1496 [==============================] - 31s 21ms/step - loss: 0.1101 - lr: 1.3509e-04\n",
            "Epoch 21/50\n",
            "1496/1496 [==============================] - 27s 18ms/step - loss: 0.1102 - lr: 1.2158e-04\n",
            "Epoch 22/50\n",
            "1496/1496 [==============================] - 26s 18ms/step - loss: 0.1103 - lr: 1.0942e-04\n",
            "Epoch 23/50\n",
            "1496/1496 [==============================] - 29s 19ms/step - loss: 0.1104 - lr: 9.8477e-05\n",
            "Epoch 24/50\n",
            "1496/1496 [==============================] - 26s 18ms/step - loss: 0.1105 - lr: 8.8629e-05\n",
            "Epoch 25/50\n",
            "1496/1496 [==============================] - 27s 18ms/step - loss: 0.1106 - lr: 7.9766e-05\n",
            "Epoch 26/50\n",
            "1496/1496 [==============================] - 27s 18ms/step - loss: 0.1106 - lr: 7.1790e-05\n",
            "Epoch 27/50\n",
            "1496/1496 [==============================] - 28s 19ms/step - loss: 0.1107 - lr: 6.4611e-05\n",
            "Epoch 28/50\n",
            "1496/1496 [==============================] - 29s 19ms/step - loss: 0.1107 - lr: 5.8150e-05\n",
            "Epoch 29/50\n",
            "1496/1496 [==============================] - 27s 18ms/step - loss: 0.1107 - lr: 5.2335e-05\n",
            "Epoch 30/50\n",
            "1496/1496 [==============================] - 27s 18ms/step - loss: 0.1107 - lr: 4.7101e-05\n",
            "Epoch 31/50\n",
            "1496/1496 [==============================] - 27s 18ms/step - loss: 0.1107 - lr: 4.2391e-05\n",
            "Epoch 32/50\n",
            "1496/1496 [==============================] - 27s 18ms/step - loss: 0.1107 - lr: 3.8152e-05\n",
            "Epoch 33/50\n",
            "1496/1496 [==============================] - 27s 18ms/step - loss: 0.1107 - lr: 3.4337e-05\n",
            "Epoch 34/50\n",
            "1496/1496 [==============================] - 27s 18ms/step - loss: 0.1107 - lr: 3.0903e-05\n",
            "Epoch 35/50\n",
            "1496/1496 [==============================] - 27s 18ms/step - loss: 0.1107 - lr: 2.7813e-05\n",
            "Epoch 36/50\n",
            "1496/1496 [==============================] - 26s 18ms/step - loss: 0.1107 - lr: 2.5032e-05\n",
            "Epoch 37/50\n",
            "1496/1496 [==============================] - 28s 19ms/step - loss: 0.1107 - lr: 2.2528e-05\n",
            "Epoch 38/50\n",
            "1496/1496 [==============================] - 26s 18ms/step - loss: 0.1107 - lr: 2.0276e-05\n",
            "Epoch 39/50\n",
            "1496/1496 [==============================] - 28s 18ms/step - loss: 0.1107 - lr: 1.8248e-05\n",
            "Epoch 40/50\n",
            "1496/1496 [==============================] - 24s 16ms/step - loss: 0.1107 - lr: 1.6423e-05\n",
            "Epoch 41/50\n",
            "1496/1496 [==============================] - 27s 18ms/step - loss: 0.1107 - lr: 1.4781e-05\n",
            "Epoch 42/50\n",
            "1496/1496 [==============================] - 27s 18ms/step - loss: 0.1107 - lr: 1.3303e-05\n",
            "Epoch 43/50\n",
            "1496/1496 [==============================] - 25s 17ms/step - loss: 0.1107 - lr: 1.1973e-05\n",
            "Epoch 44/50\n",
            "1496/1496 [==============================] - 26s 17ms/step - loss: 0.1107 - lr: 1.0775e-05\n",
            "Epoch 45/50\n",
            "1496/1496 [==============================] - 29s 19ms/step - loss: 0.1107 - lr: 9.6977e-06\n",
            "Epoch 46/50\n",
            "1496/1496 [==============================] - 26s 17ms/step - loss: 0.1107 - lr: 8.7280e-06\n",
            "Epoch 47/50\n",
            "1496/1496 [==============================] - 26s 17ms/step - loss: 0.1107 - lr: 7.8552e-06\n",
            "Epoch 48/50\n",
            "1496/1496 [==============================] - 26s 17ms/step - loss: 0.1107 - lr: 7.0697e-06\n",
            "Epoch 49/50\n",
            "1496/1496 [==============================] - 27s 18ms/step - loss: 0.1107 - lr: 6.3627e-06\n",
            "Epoch 50/50\n",
            "1496/1496 [==============================] - 28s 19ms/step - loss: 0.1107 - lr: 5.7264e-06\n",
            "Model: \"lstm_vae\"\n",
            "_________________________________________________________________\n",
            " Layer (type)                Output Shape              Param #   \n",
            "=================================================================\n",
            " encoder (Encoder)           multiple                  3080      \n",
            "                                                                 \n",
            " decoder (Decoder)           multiple                  1845      \n",
            "                                                                 \n",
            "=================================================================\n",
            "Total params: 4927 (19.25 KB)\n",
            "Trainable params: 4925 (19.24 KB)\n",
            "Non-trainable params: 2 (8.00 Byte)\n",
            "_________________________________________________________________\n"
          ]
        }
      ],
      "source": [
        "from Models.lstm_vae.model import LSTM_VAE\n",
        "\n",
        "opt = tf.keras.optimizers.Adam(epsilon=1e-6, amsgrad=True)\n",
        "scheduler = tf.keras.callbacks.LearningRateScheduler(lambda x: 1e-3 * 0.9 ** x)\n",
        "\n",
        "X_train = tf.convert_to_tensor(data_train, dtype='float32')\n",
        "train_dataset = tf.data.Dataset.from_tensor_slices(X_train)\n",
        "train_dataset = train_dataset.shuffle(buffer_size=1024).batch(batch_size, drop_remainder=True)\n",
        "\n",
        "model = LSTM_VAE(window_size, x_dim, lstm_h_dim, z_dim, dtype='float32')\n",
        "model.compile(optimizer=opt)\n",
        "history = model.fit(train_dataset, epochs=epoch_num, shuffle=False, callbacks=[scheduler]).history\n",
        "model.summary()\n",
        "model.save_weights('./lstm_vae_ckpt')"
      ]
    },
    {
      "cell_type": "code",
      "execution_count": 7,
      "metadata": {
        "colab": {
          "base_uri": "https://localhost:8080/",
          "height": 17
        },
        "id": "IdytvxcR97AN",
        "outputId": "6589cb70-a0e4-471f-8634-e0eb922e4ed1"
      },
      "outputs": [
        {
          "data": {
            "application/javascript": "\n    async function download(id, filename, size) {\n      if (!google.colab.kernel.accessAllowed) {\n        return;\n      }\n      const div = document.createElement('div');\n      const label = document.createElement('label');\n      label.textContent = `Downloading \"${filename}\": `;\n      div.appendChild(label);\n      const progress = document.createElement('progress');\n      progress.max = size;\n      div.appendChild(progress);\n      document.body.appendChild(div);\n\n      const buffers = [];\n      let downloaded = 0;\n\n      const channel = await google.colab.kernel.comms.open(id);\n      // Send a message to notify the kernel that we're ready.\n      channel.send({})\n\n      for await (const message of channel.messages) {\n        // Send a message to notify the kernel that we're ready.\n        channel.send({})\n        if (message.buffers) {\n          for (const buffer of message.buffers) {\n            buffers.push(buffer);\n            downloaded += buffer.byteLength;\n            progress.value = downloaded;\n          }\n        }\n      }\n      const blob = new Blob(buffers, {type: 'application/binary'});\n      const a = document.createElement('a');\n      a.href = window.URL.createObjectURL(blob);\n      a.download = filename;\n      div.appendChild(a);\n      a.click();\n      div.remove();\n    }\n  ",
            "text/plain": [
              "<IPython.core.display.Javascript object>"
            ]
          },
          "metadata": {},
          "output_type": "display_data"
        },
        {
          "data": {
            "application/javascript": "download(\"download_15bd352f-88c7-4f42-a509-73b23206c134\", \"lstm_vae_ckpt.data-00000-of-00001\", 86447)",
            "text/plain": [
              "<IPython.core.display.Javascript object>"
            ]
          },
          "metadata": {},
          "output_type": "display_data"
        },
        {
          "data": {
            "application/javascript": "\n    async function download(id, filename, size) {\n      if (!google.colab.kernel.accessAllowed) {\n        return;\n      }\n      const div = document.createElement('div');\n      const label = document.createElement('label');\n      label.textContent = `Downloading \"${filename}\": `;\n      div.appendChild(label);\n      const progress = document.createElement('progress');\n      progress.max = size;\n      div.appendChild(progress);\n      document.body.appendChild(div);\n\n      const buffers = [];\n      let downloaded = 0;\n\n      const channel = await google.colab.kernel.comms.open(id);\n      // Send a message to notify the kernel that we're ready.\n      channel.send({})\n\n      for await (const message of channel.messages) {\n        // Send a message to notify the kernel that we're ready.\n        channel.send({})\n        if (message.buffers) {\n          for (const buffer of message.buffers) {\n            buffers.push(buffer);\n            downloaded += buffer.byteLength;\n            progress.value = downloaded;\n          }\n        }\n      }\n      const blob = new Blob(buffers, {type: 'application/binary'});\n      const a = document.createElement('a');\n      a.href = window.URL.createObjectURL(blob);\n      a.download = filename;\n      div.appendChild(a);\n      a.click();\n      div.remove();\n    }\n  ",
            "text/plain": [
              "<IPython.core.display.Javascript object>"
            ]
          },
          "metadata": {},
          "output_type": "display_data"
        },
        {
          "data": {
            "application/javascript": "download(\"download_cbe4c3f8-2d1a-4e8c-9fcf-dc89ab51af50\", \"lstm_vae_ckpt.index\", 3129)",
            "text/plain": [
              "<IPython.core.display.Javascript object>"
            ]
          },
          "metadata": {},
          "output_type": "display_data"
        }
      ],
      "source": [
        "from google.colab import files\n",
        "\n",
        "files.download('./lstm_vae_ckpt.data-00000-of-00001')\n",
        "files.download('./lstm_vae_ckpt.index')"
      ]
    },
    {
      "cell_type": "code",
      "execution_count": 8,
      "metadata": {
        "colab": {
          "base_uri": "https://localhost:8080/"
        },
        "id": "39yOjCzgXs3o",
        "outputId": "57200b5c-08b7-4aa1-9773-af11c05a2236"
      },
      "outputs": [
        {
          "name": "stdout",
          "output_type": "stream",
          "text": [
            "54/54 [==============================] - 1s 7ms/step\n"
          ]
        }
      ],
      "source": [
        "score_cal = model.anomaly_score(data_cal)\n",
        "label_cal = label_cal[:score_cal.shape[0]]"
      ]
    },
    {
      "cell_type": "markdown",
      "metadata": {
        "id": "MHyse8pLXsnN"
      },
      "source": []
    },
    {
      "cell_type": "code",
      "execution_count": 9,
      "metadata": {
        "colab": {
          "base_uri": "https://localhost:8080/"
        },
        "id": "4RV-c7JLXzdG",
        "outputId": "a796462b-9953-43b0-a7a1-e08147917463"
      },
      "outputs": [
        {
          "name": "stdout",
          "output_type": "stream",
          "text": [
            "Fitting 3 folds for each of 36 candidates, totalling 108 fits\n",
            "{'estimator__C': 10.0, 'estimator__gamma': 1e-05}\n"
          ]
        }
      ],
      "source": [
        "optimize = True\n",
        "param_grid = {'estimator__C': np.logspace(0, 5, 6), 'estimator__gamma': np.logspace(-5, 0, 6)}\n",
        "\n",
        "if optimize:\n",
        "  cal_search = GridSearchCV(CalibratedClassifierCV(SVC(probability=True), cv=3), param_grid, cv=3, verbose=1, scoring='f1')\n",
        "  cal_search.fit(score_cal, label_cal)\n",
        "  cal_model = cal_search.best_estimator_\n",
        "  print(cal_search.best_params_)\n",
        "else:\n",
        "  cal_model = CalibratedClassifierCV(SVC(probability=True, C=1, gamma=0.0001))\n",
        "  cal_model.fit(score_cal, label_cal[:score_cal.shape[0]])"
      ]
    },
    {
      "cell_type": "code",
      "execution_count": 10,
      "metadata": {
        "colab": {
          "base_uri": "https://localhost:8080/"
        },
        "id": "TWwp9tNhX1lX",
        "outputId": "534ad661-10bc-4c09-95a7-9293e532b28d"
      },
      "outputs": [
        {
          "name": "stdout",
          "output_type": "stream",
          "text": [
            "480/480 [==============================] - 5s 11ms/step\n"
          ]
        }
      ],
      "source": [
        "score_test = model.anomaly_score(data_test)\n",
        "label_test = label_test[:score_test.shape[0]]\n",
        "\n",
        "y_pred_test = cal_model.predict(score_test)\n",
        "y_score_test = cal_model.predict_proba(score_test)[:, 1]"
      ]
    },
    {
      "cell_type": "code",
      "execution_count": 11,
      "metadata": {
        "colab": {
          "base_uri": "https://localhost:8080/"
        },
        "id": "COdAhWWQYDQn",
        "outputId": "ab229b4a-c93a-44e0-e971-c8b01830f08c"
      },
      "outputs": [
        {
          "data": {
            "text/plain": [
              "0.4080635308491143"
            ]
          },
          "execution_count": 11,
          "metadata": {},
          "output_type": "execute_result"
        }
      ],
      "source": [
        "f1 = sklearn.metrics.f1_score(label_test, y_pred_test)\n",
        "f1"
      ]
    },
    {
      "cell_type": "code",
      "execution_count": 12,
      "metadata": {
        "colab": {
          "base_uri": "https://localhost:8080/",
          "height": 489
        },
        "id": "f4ugX2P9YFeT",
        "outputId": "b8833d04-befc-4e31-d806-21a498d1a476"
      },
      "outputs": [
        {
          "data": {
            "image/png": "[encoded data removed]",
            "text/plain": [
              "<Figure size 640x480 with 1 Axes>"
            ]
          },
          "metadata": {},
          "output_type": "display_data"
        },
        {
          "data": {
            "text/plain": [
              "0.8878046400893777"
            ]
          },
          "execution_count": 12,
          "metadata": {},
          "output_type": "execute_result"
        }
      ],
      "source": [
        "fpr, tpr, thresholds = sklearn.metrics.roc_curve(label_test, y_score_test)\n",
        "roc_auc = sklearn.metrics.auc(fpr, tpr)\n",
        "\n",
        "plt.plot(fpr, tpr, label='ROC curve (area = %0.4f)' % roc_auc)\n",
        "plt.xlabel('False Positive Rate')\n",
        "plt.ylabel('True Positive Rate')\n",
        "plt.title('Receiver Operating Characteristic')\n",
        "plt.legend()\n",
        "plt.show()\n",
        "\n",
        "roc_auc"
      ]
    },
    {
      "cell_type": "code",
      "execution_count": 13,
      "metadata": {
        "colab": {
          "base_uri": "https://localhost:8080/",
          "height": 489
        },
        "id": "AVEgvT4zYHsx",
        "outputId": "434873fd-8492-4af9-ec2e-5f9e24f5b9af"
      },
      "outputs": [
        {
          "data": {
            "image/png": "[encoded data removed]",
            "text/plain": [
              "<Figure size 640x480 with 1 Axes>"
            ]
          },
          "metadata": {},
          "output_type": "display_data"
        },
        {
          "data": {
            "text/plain": [
              "0.24917564211828486"
            ]
          },
          "execution_count": 13,
          "metadata": {},
          "output_type": "execute_result"
        }
      ],
      "source": [
        "precison, recall, thresholds = sklearn.metrics.precision_recall_curve(label_test, y_score_test)\n",
        "prc_auc = sklearn.metrics.auc(recall, precison)\n",
        "\n",
        "plt.plot(recall, precison, label='PRC curve (area = %0.4f)' % prc_auc)\n",
        "plt.xlabel('Recall')\n",
        "plt.ylabel('Precision')\n",
        "plt.title('Precision Recall Curve')\n",
        "plt.legend()\n",
        "plt.show()\n",
        "\n",
        "prc_auc"
      ]
    }
  ],
  "metadata": {
    "colab": {
      "provenance": []
    },
    "kernelspec": {
      "display_name": "Python 3",
      "name": "python3"
    },
    "language_info": {
      "name": "python"
    }
  },
  "nbformat": 4,
  "nbformat_minor": 0
}
