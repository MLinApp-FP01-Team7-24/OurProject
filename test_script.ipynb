{
  "cells": [
    {
      "cell_type": "code",
      "execution_count": 1,
      "metadata": {
        "id": "wLucIIVc2h-v"
      },
      "outputs": [],
      "source": [
        "import numpy as np\n",
        "import pandas as pd\n",
        "import matplotlib.pyplot as plt\n",
        "import os\n",
        "\n",
        "import sklearn\n",
        "from sklearn.svm import SVC\n",
        "from sklearn.calibration import CalibratedClassifierCV\n",
        "from sklearn.model_selection import GridSearchCV\n",
        "\n",
        "import tensorflow as tf\n",
        "\n",
        "\n",
        "np.random.seed(0)\n",
        "tf.random.set_seed(0)"
      ]
    },
    {
      "cell_type": "code",
      "execution_count": null,
      "metadata": {
        "colab": {
          "base_uri": "https://localhost:8080/"
        },
        "id": "CXM4zKFe2pOQ",
        "outputId": "ee6ea7a8-67fe-4839-d80a-d837f03ffb6f"
      },
      "outputs": [],
      "source": [
        "!git clone https://github.com/MLinApp-FP01-Team7-24/OurProject.git\n",
        "%cd OurProject"
      ]
    },
    {
      "cell_type": "markdown",
      "metadata": {},
      "source": [
        "# Data load"
      ]
    },
    {
      "cell_type": "code",
      "execution_count": 3,
      "metadata": {
        "id": "KFzva7Q62k2r"
      },
      "outputs": [],
      "source": [
        "# Set widnow size and k for point adjustment. 0 is f1, 1 is f1_pa\n",
        "\n",
        "window_size = 20\n",
        "k_pa = 0"
      ]
    },
    {
      "cell_type": "code",
      "execution_count": null,
      "metadata": {
        "colab": {
          "base_uri": "https://localhost:8080/"
        },
        "id": "k08kolJM2ruF",
        "outputId": "306b51d9-b903-4fd9-c622-82c9af6483b4"
      },
      "outputs": [],
      "source": [
        "from Models.lstm_vae.data import get_data_windows\n",
        "\n",
        "# Get data for training, calibration and testing in form of numpy arrays. Already windowed and normalized.\n",
        "data_train, data_cal, label_cal, data_test, label_test = get_data_windows(window_size, k_pa)\n",
        "\n",
        "print(data_train.shape)\n",
        "print(data_cal.shape, label_cal.shape)\n",
        "print(data_test.shape, label_test.shape)"
      ]
    },
    {
      "cell_type": "markdown",
      "metadata": {},
      "source": [
        "# Model load"
      ]
    },
    {
      "cell_type": "code",
      "execution_count": 6,
      "metadata": {
        "id": "SsxwWBC4DNON"
      },
      "outputs": [],
      "source": [
        "# Set parameters to load the model\n",
        "x_dim = data_cal.shape[2]\n",
        "lstm_h_dim = 10\n",
        "z_dim = 10"
      ]
    },
    {
      "cell_type": "code",
      "execution_count": null,
      "metadata": {
        "colab": {
          "base_uri": "https://localhost:8080/"
        },
        "id": "dTc810ls3gdd",
        "outputId": "d4fe782d-e997-4541-d50e-7d2b695b571a"
      },
      "outputs": [],
      "source": [
        "from Models.lstm_vae.model import LSTM_VAE\n",
        "\n",
        "model = LSTM_VAE(window_size, x_dim, lstm_h_dim, z_dim, dtype='float32')\n",
        "model.compile()\n",
        "model.load_weights('./trained_models/lstm_vae/lstm_vae_ckpt')"
      ]
    },
    {
      "cell_type": "markdown",
      "metadata": {},
      "source": [
        "# Model calibration"
      ]
    },
    {
      "cell_type": "code",
      "execution_count": null,
      "metadata": {
        "colab": {
          "base_uri": "https://localhost:8080/"
        },
        "id": "39yOjCzgXs3o",
        "outputId": "56c41f15-683f-4471-8e7c-8c235ee8007d"
      },
      "outputs": [],
      "source": [
        "score_cal = model.anomaly_score(data_cal)\n",
        "label_cal = label_cal[:score_cal.shape[0]]"
      ]
    },
    {
      "cell_type": "markdown",
      "metadata": {
        "id": "MHyse8pLXsnN"
      },
      "source": []
    },
    {
      "cell_type": "code",
      "execution_count": null,
      "metadata": {
        "colab": {
          "base_uri": "https://localhost:8080/",
          "height": 999
        },
        "id": "4RV-c7JLXzdG",
        "outputId": "90de08fd-1514-4742-d060-56fc6b8fc490"
      },
      "outputs": [],
      "source": [
        "optimize = True\n",
        "param_grid = {'estimator__C': np.logspace(0, 5, 6), 'estimator__gamma': np.logspace(-5, 0, 6)}\n",
        "\n",
        "if optimize:\n",
        "  cal_search = GridSearchCV(CalibratedClassifierCV(SVC(probability=True), cv=3), param_grid, cv=3, verbose=1, scoring='f1')\n",
        "  cal_search.fit(score_cal, label_cal)\n",
        "  cal_model = cal_search.best_estimator_\n",
        "  print(cal_search.best_params_)\n",
        "else:\n",
        "  cal_model = CalibratedClassifierCV(SVC(probability=True, C=10, gamma=1e-3))\n",
        "  cal_model.fit(score_cal, label_cal[:score_cal.shape[0]])"
      ]
    },
    {
      "cell_type": "markdown",
      "metadata": {},
      "source": [
        "# Model evaluation"
      ]
    },
    {
      "cell_type": "code",
      "execution_count": null,
      "metadata": {
        "id": "TWwp9tNhX1lX"
      },
      "outputs": [],
      "source": [
        "score_test = model.anomaly_score(data_test)\n",
        "label_test = label_test[:score_test.shape[0]]\n",
        "\n",
        "y_pred_test = cal_model.predict(score_test)\n",
        "y_score_test = cal_model.predict_proba(score_test)[:, 1]"
      ]
    },
    {
      "cell_type": "code",
      "execution_count": null,
      "metadata": {
        "id": "COdAhWWQYDQn"
      },
      "outputs": [],
      "source": [
        "f1 = sklearn.metrics.f1_score(label_test, y_pred_test)\n",
        "f1"
      ]
    },
    {
      "cell_type": "code",
      "execution_count": null,
      "metadata": {
        "id": "f4ugX2P9YFeT"
      },
      "outputs": [],
      "source": [
        "fpr, tpr, thresholds = sklearn.metrics.roc_curve(label_test, y_score_test)\n",
        "roc_auc = sklearn.metrics.auc(fpr, tpr)\n",
        "\n",
        "plt.plot(fpr, tpr, label='ROC curve (area = %0.4f)' % roc_auc)\n",
        "plt.xlabel('False Positive Rate')\n",
        "plt.ylabel('True Positive Rate')\n",
        "plt.title('Receiver Operating Characteristic')\n",
        "plt.legend()\n",
        "plt.show()\n",
        "\n",
        "roc_auc"
      ]
    },
    {
      "cell_type": "code",
      "execution_count": null,
      "metadata": {
        "id": "AVEgvT4zYHsx"
      },
      "outputs": [],
      "source": [
        "precison, recall, thresholds = sklearn.metrics.precision_recall_curve(label_test, y_score_test)\n",
        "prc_auc = sklearn.metrics.auc(recall, precison)\n",
        "\n",
        "plt.plot(recall, precison, label='PRC curve (area = %0.4f)' % prc_auc)\n",
        "plt.xlabel('Recall')\n",
        "plt.ylabel('Precision')\n",
        "plt.title('Precision Recall Curve')\n",
        "plt.legend()\n",
        "plt.show()\n",
        "\n",
        "prc_auc"
      ]
    }
  ],
  "metadata": {
    "colab": {
      "provenance": []
    },
    "kernelspec": {
      "display_name": "Python 3",
      "name": "python3"
    },
    "language_info": {
      "name": "python"
    }
  },
  "nbformat": 4,
  "nbformat_minor": 0
}
