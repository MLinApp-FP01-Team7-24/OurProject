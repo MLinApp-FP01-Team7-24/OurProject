{
  "cells": [
    {
      "cell_type": "code",
      "execution_count": null,
      "metadata": {
        "id": "wLucIIVc2h-v"
      },
      "outputs": [],
      "source": [
        "import numpy as np\n",
        "import pandas as pd\n",
        "import os\n",
        "\n",
        "import tensorflow as tf\n",
        "\n",
        "np.random.seed(0)\n",
        "tf.random.set_seed(0)"
      ]
    },
    {
      "cell_type": "code",
      "execution_count": null,
      "metadata": {
        "id": "CXM4zKFe2pOQ"
      },
      "outputs": [],
      "source": [
        "!git clone https://github.com/MLinApp-FP01-Team7-24/OurProject.git\n",
        "%cd OurProject"
      ]
    },
    {
      "cell_type": "code",
      "execution_count": null,
      "metadata": {
        "id": "KFzva7Q62k2r"
      },
      "outputs": [],
      "source": [
        "window_size = 20\n",
        "k_pa = 0 # valori tra 0 e 1"
      ]
    },
    {
      "cell_type": "code",
      "execution_count": null,
      "metadata": {
        "id": "k08kolJM2ruF"
      },
      "outputs": [],
      "source": [
        "from Models.LSTM_VAE.data import get_test_windows, get_cal_windows\n",
        "\n",
        "data_cal, label_cal = get_cal_windows(window_size, k_pa)\n",
        "data_test, label_test = get_test_windows(window_size, k_pa)\n",
        "\n",
        "print(data_cal.shape, label_cal.shape)\n",
        "print(data_test.shape, label_test.shape)"
      ]
    },
    {
      "cell_type": "code",
      "execution_count": null,
      "metadata": {
        "id": "dTc810ls3gdd"
      },
      "outputs": [],
      "source": [
        "from Models.LSTM_VAE.model import LSTM_VAE\n",
        "\n",
        "model = LSTM_VAE(window_size, x_dim, lstm_h_dim, z_dim, dtype='float32')\n",
        "model.load_weights('./trained_models/LSTM_VAE/checkpoint')"
      ]
    }
  ],
  "metadata": {
    "colab": {
      "provenance": []
    },
    "kernelspec": {
      "display_name": "Python 3",
      "name": "python3"
    },
    "language_info": {
      "name": "python"
    }
  },
  "nbformat": 4,
  "nbformat_minor": 0
}
