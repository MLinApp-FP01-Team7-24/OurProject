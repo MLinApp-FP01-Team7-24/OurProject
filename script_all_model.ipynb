{
  "nbformat": 4,
  "nbformat_minor": 0,
  "metadata": {
    "colab": {
      "provenance": [],
      "gpuType": "T4"
    },
    "kernelspec": {
      "name": "python3",
      "display_name": "Python 3"
    },
    "language_info": {
      "name": "python"
    },
    "accelerator": "GPU"
  },
  "cells": [
    {
      "cell_type": "code",
      "source": [
        "!rm -r sample_data"
      ],
      "metadata": {
        "id": "h_dbxQGJu6Fs"
      },
      "execution_count": 1,
      "outputs": []
    },
    {
      "cell_type": "code",
      "execution_count": 2,
      "metadata": {
        "colab": {
          "base_uri": "https://localhost:8080/"
        },
        "id": "guE-duUttv7V",
        "outputId": "3795c245-0cc4-4b8c-f733-fa730304f20a"
      },
      "outputs": [
        {
          "output_type": "stream",
          "name": "stdout",
          "text": [
            "Cloning into 'OurProject'...\n",
            "remote: Enumerating objects: 259, done.\u001b[K\n",
            "remote: Counting objects: 100% (259/259), done.\u001b[K\n",
            "remote: Compressing objects: 100% (234/234), done.\u001b[K\n",
            "remote: Total 259 (delta 55), reused 16 (delta 1), pack-reused 0\u001b[K\n",
            "Receiving objects: 100% (259/259), 18.70 MiB | 4.90 MiB/s, done.\n",
            "Resolving deltas: 100% (55/55), done.\n"
          ]
        }
      ],
      "source": [
        "!git clone https://github.com/MLinApp-FP01-Team7-24/OurProject"
      ]
    },
    {
      "cell_type": "markdown",
      "source": [
        "# USAD"
      ],
      "metadata": {
        "id": "a9Cgp98TwcSb"
      }
    },
    {
      "cell_type": "code",
      "source": [
        "%cd \"OurProject/Models/usad\""
      ],
      "metadata": {
        "colab": {
          "base_uri": "https://localhost:8080/"
        },
        "id": "btizbUCewE32",
        "outputId": "0f7e8518-18f2-404c-f226-1379885f05cb"
      },
      "execution_count": 3,
      "outputs": [
        {
          "output_type": "stream",
          "name": "stdout",
          "text": [
            "/content/OurProject/Models/usad\n"
          ]
        }
      ]
    },
    {
      "cell_type": "code",
      "source": [
        "import numpy as np\n",
        "import pandas as pd\n",
        "import matplotlib.pyplot as plt\n",
        "import seaborn as sns\n",
        "import torch\n",
        "import torch.nn as nn\n",
        "import os\n",
        "import argparse\n",
        "import torch.utils.data as data_utils\n",
        "import sklearn.metrics\n",
        "from sklearn import preprocessing\n",
        "from utils import *\n",
        "from usad import *"
      ],
      "metadata": {
        "id": "FqMUblO2wNQN"
      },
      "execution_count": 19,
      "outputs": []
    },
    {
      "cell_type": "code",
      "source": [
        "!nvidia-smi -L\n",
        "device = get_default_device()"
      ],
      "metadata": {
        "colab": {
          "base_uri": "https://localhost:8080/"
        },
        "id": "uX3vcfMywVde",
        "outputId": "2d39928b-0c42-4158-9c0f-cc15d130c612"
      },
      "execution_count": 5,
      "outputs": [
        {
          "output_type": "stream",
          "name": "stdout",
          "text": [
            "GPU 0: Tesla T4 (UUID: GPU-a74290df-d5be-181a-9cb8-23f61c574a5c)\n"
          ]
        }
      ]
    },
    {
      "cell_type": "code",
      "source": [
        "w_size = 660\n",
        "z_size = 600"
      ],
      "metadata": {
        "id": "iWw8yxEh3O1U"
      },
      "execution_count": 17,
      "outputs": []
    },
    {
      "cell_type": "code",
      "source": [
        "model = UsadModel(w_size, z_size)\n",
        "model = to_device(model,device)\n",
        "\n",
        "checkpoint = torch.load(\"model.pth\")\n",
        "\n",
        "model.encoder.load_state_dict(checkpoint['encoder'])\n",
        "model.decoder1.load_state_dict(checkpoint['decoder1'])\n",
        "model.decoder2.load_state_dict(checkpoint['decoder2'])"
      ],
      "metadata": {
        "colab": {
          "base_uri": "https://localhost:8080/"
        },
        "id": "ThWmhF_1wgU0",
        "outputId": "87b1502e-3634-4b53-bfaa-1e918efc6d7c"
      },
      "execution_count": 6,
      "outputs": [
        {
          "output_type": "execute_result",
          "data": {
            "text/plain": [
              "<All keys matched successfully>"
            ]
          },
          "metadata": {},
          "execution_count": 6
        }
      ]
    },
    {
      "cell_type": "code",
      "source": [
        "def get_df(filepaths_csv, drop_time = False, delimiter=\";\"):\n",
        "    # Load dataframes\n",
        "    print(\"Loading data.\")\n",
        "    # Make dataframes\n",
        "\n",
        "    dfs = [pd.read_csv(filepath_csv, sep=delimiter) for filepath_csv in filepaths_csv]\n",
        "    df = pd.concat(dfs)\n",
        "\n",
        "    # Sort columns by name !!!\n",
        "    df = df.sort_index(axis=1)\n",
        "\n",
        "    # Gestisci timestamp\n",
        "    if drop_time:\n",
        "        df.drop([\"time\"], axis=1, inplace=True)\n",
        "    else:\n",
        "      df['time'] = pd.to_datetime(df['time'])\n",
        "\n",
        "    # Drop useless columns\n",
        "    columns_to_drop = [column for column in df.columns if \"Abb\" in column or \"Temperature\" in column]\n",
        "    df.drop([\"machine_nameKuka Robot_export_active_energy\",\n",
        "             \"machine_nameKuka Robot_import_reactive_energy\"] + columns_to_drop, axis=1, inplace=True)\n",
        "\n",
        "    # Drop NaN\n",
        "    df = df.dropna(axis=0)\n",
        "\n",
        "    print(\"Loading data done.\\n\")\n",
        "\n",
        "    return df"
      ],
      "metadata": {
        "id": "6dcKh2c01xBd"
      },
      "execution_count": 8,
      "outputs": []
    },
    {
      "cell_type": "code",
      "source": [
        "anomaly_path = \"/content/OurProject/kuka_dataset/collisions\"\n",
        "period = 0.1\n",
        "\n",
        "window_len = 12\n",
        "BATCH_SIZE = 128\n"
      ],
      "metadata": {
        "id": "muKshOTt2iyT"
      },
      "execution_count": 11,
      "outputs": []
    },
    {
      "cell_type": "code",
      "source": [
        "filepath_csv = [os.path.join(anomaly_path, f\"rec{r}_20220811_rbtc_{period}s.csv\") for r in [1, 5]]"
      ],
      "metadata": {
        "id": "OfyzsPMh1wr9"
      },
      "execution_count": 12,
      "outputs": []
    },
    {
      "cell_type": "code",
      "source": [
        "#Read data\n",
        "df = get_df(filepath_csv, drop_time = False)\n",
        "attack = df.drop(columns=['time'], axis=1)\n",
        "\n",
        "#Scaling\n",
        "min_max_scaler = preprocessing.MinMaxScaler()\n",
        "x = attack.values\n",
        "x_scaled = min_max_scaler.fit_transform(x)\n",
        "attack = pd.DataFrame(x_scaled)\n",
        "\n",
        "#Windowing\n",
        "windows_attack = np.array([attack[i:i + window_len] for i in range(len(attack) - window_len + 1)])\n",
        "windows_attack.shape"
      ],
      "metadata": {
        "colab": {
          "base_uri": "https://localhost:8080/"
        },
        "id": "aQS0Sg-j10Jm",
        "outputId": "21ae01a4-7226-4344-9edf-e5d760e797ce"
      },
      "execution_count": 15,
      "outputs": [
        {
          "output_type": "stream",
          "name": "stdout",
          "text": [
            "Loading data.\n",
            "Loading data done.\n",
            "\n"
          ]
        },
        {
          "output_type": "execute_result",
          "data": {
            "text/plain": [
              "(30764, 12, 55)"
            ]
          },
          "metadata": {},
          "execution_count": 15
        }
      ]
    },
    {
      "cell_type": "code",
      "source": [
        "test_loader = torch.utils.data.DataLoader(data_utils.TensorDataset(\n",
        "    torch.from_numpy(windows_attack).float().view(([windows_attack.shape[0],w_size]))\n",
        ") , batch_size=BATCH_SIZE, shuffle=False, num_workers=0)"
      ],
      "metadata": {
        "id": "Nw_ITcwrz6LP"
      },
      "execution_count": 18,
      "outputs": []
    },
    {
      "cell_type": "code",
      "source": [
        "accuracy = sklearn.metrics.accuracy_score(label_eval, y_pred_eval)\n",
        "accuracy"
      ],
      "metadata": {
        "id": "rRHUfGnaxgez"
      },
      "execution_count": null,
      "outputs": []
    },
    {
      "cell_type": "code",
      "source": [
        "f1 = sklearn.metrics.f1_score(label_eval, y_pred_eval)\n",
        "f1"
      ],
      "metadata": {
        "id": "P_lKLvtQxe1N"
      },
      "execution_count": null,
      "outputs": []
    },
    {
      "cell_type": "code",
      "source": [
        "fpr, tpr, thresholds = sklearn.metrics.roc_curve(label_eval, y_score_eval)\n",
        "roc_auc = sklearn.metrics.auc(fpr, tpr)\n",
        "\n",
        "plt.plot(fpr, tpr, label='ROC curve (area = %0.4f)' % roc_auc)\n",
        "plt.xlabel('False Positive Rate')\n",
        "plt.ylabel('True Positive Rate')\n",
        "plt.title('Receiver Operating Characteristic')\n",
        "plt.legend()\n",
        "plt.show()\n",
        "\n",
        "roc_auc"
      ],
      "metadata": {
        "id": "5fE2OF13zaCI"
      },
      "execution_count": null,
      "outputs": []
    },
    {
      "cell_type": "code",
      "source": [
        "precison, recall, thresholds = sklearn.metrics.precision_recall_curve(label_eval, y_score_eval)\n",
        "prc_auc = sklearn.metrics.auc(recall, precison)\n",
        "\n",
        "plt.plot(recall, precison, label='PRC curve (area = %0.4f)' % prc_auc)\n",
        "plt.xlabel('Recall')\n",
        "plt.ylabel('Precision')\n",
        "plt.title('Precision Recall Curve')\n",
        "plt.legend()\n",
        "plt.show()\n",
        "\n",
        "prc_auc"
      ],
      "metadata": {
        "id": "HbX8RsA1zadM"
      },
      "execution_count": null,
      "outputs": []
    }
  ]
}