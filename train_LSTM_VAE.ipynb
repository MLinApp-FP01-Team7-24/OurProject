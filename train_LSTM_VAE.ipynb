{
  "nbformat": 4,
  "nbformat_minor": 0,
  "metadata": {
    "colab": {
      "provenance": []
    },
    "kernelspec": {
      "name": "python3",
      "display_name": "Python 3"
    },
    "language_info": {
      "name": "python"
    }
  },
  "cells": [
    {
      "cell_type": "code",
      "source": [
        "import numpy as np\n",
        "import pandas as pd\n",
        "import matplotlib.pyplot as plt\n",
        "import os\n",
        "\n",
        "import sklearn\n",
        "from sklearn.svm import SVC\n",
        "from sklearn.calibration import CalibratedClassifierCV\n",
        "from sklearn.model_selection import GridSearchCV\n",
        "\n",
        "import tensorflow as tf\n",
        "\n",
        "\n",
        "np.random.seed(0)\n",
        "tf.random.set_seed(0)"
      ],
      "metadata": {
        "id": "wLucIIVc2h-v"
      },
      "execution_count": null,
      "outputs": []
    },
    {
      "cell_type": "code",
      "source": [
        "!git clone https://github.com/MLinApp-FP01-Team7-24/OurProject.git\n",
        "%cd OurProject"
      ],
      "metadata": {
        "colab": {
          "base_uri": "https://localhost:8080/"
        },
        "id": "CXM4zKFe2pOQ",
        "outputId": "95265bf9-b64f-4202-f9bd-6076aea51c5b"
      },
      "execution_count": null,
      "outputs": [
        {
          "output_type": "stream",
          "name": "stdout",
          "text": [
            "Cloning into 'OurProject'...\n",
            "remote: Enumerating objects: 2067, done.\u001b[K\n",
            "remote: Counting objects: 100% (15/15), done.\u001b[K\n",
            "remote: Compressing objects: 100% (11/11), done.\u001b[K\n",
            "remote: Total 2067 (delta 7), reused 6 (delta 4), pack-reused 2052 (from 1)\u001b[K\n",
            "Receiving objects: 100% (2067/2067), 372.52 MiB | 13.31 MiB/s, done.\n",
            "Resolving deltas: 100% (430/430), done.\n",
            "Updating files: 100% (999/999), done.\n",
            "/content/OurProject\n"
          ]
        }
      ]
    },
    {
      "cell_type": "code",
      "source": [
        "window_size = 20\n",
        "k_pa = 1 # valori tra 0 e 1"
      ],
      "metadata": {
        "id": "KFzva7Q62k2r"
      },
      "execution_count": null,
      "outputs": []
    },
    {
      "cell_type": "code",
      "source": [
        "from Models.lstm_vae.data import get_data_windows\n",
        "\n",
        "data_train, data_cal, label_cal, data_test, label_test = get_data_windows(window_size, k_pa)\n",
        "\n",
        "print(data_train.shape)\n",
        "print(data_cal.shape, label_cal.shape)\n",
        "print(data_test.shape, label_test.shape)\n"
      ],
      "metadata": {
        "colab": {
          "base_uri": "https://localhost:8080/"
        },
        "id": "k08kolJM2ruF",
        "outputId": "04093f44-27d6-4871-986b-df576cffba47"
      },
      "execution_count": null,
      "outputs": [
        {
          "output_type": "stream",
          "name": "stdout",
          "text": [
            "Reading training data...\n",
            "Reading calibration data...\n",
            "Reading test data...\n",
            "Reading collisions data...\n",
            "Normalizing data...\n",
            "Getting windows for training data...\n",
            "Getting windows and labels for calibration data...\n",
            "Getting windows and labels for test data...\n",
            "(95795, 20, 55)\n",
            "(3480, 20, 55) (3480,)\n",
            "(30755, 20, 55) (30755,)\n"
          ]
        }
      ]
    },
    {
      "cell_type": "code",
      "source": [
        "x_dim = data_train.shape[2]\n",
        "lstm_h_dim = 10\n",
        "z_dim = 10\n",
        "\n",
        "batch_size = 64\n",
        "epoch_num = 20"
      ],
      "metadata": {
        "id": "SsxwWBC4DNON"
      },
      "execution_count": null,
      "outputs": []
    },
    {
      "cell_type": "code",
      "source": [
        "from Models.lstm_vae.model import LSTM_VAE\n",
        "\n",
        "opt = tf.keras.optimizers.Adam(epsilon=1e-6, amsgrad=True)\n",
        "scheduler = tf.keras.callbacks.LearningRateScheduler(lambda x: 1e-3 * 0.9 ** x)\n",
        "\n",
        "X_train = tf.convert_to_tensor(data_train, dtype='float32')\n",
        "train_dataset = tf.data.Dataset.from_tensor_slices(X_train)\n",
        "train_dataset = train_dataset.shuffle(buffer_size=1024).batch(batch_size, drop_remainder=True)\n",
        "\n",
        "model = LSTM_VAE(window_size, x_dim, lstm_h_dim, z_dim, dtype='float32')\n",
        "model.compile(optimizer=opt)\n",
        "history = model.fit(train_dataset, epochs=epoch_num, shuffle=False, callbacks=[scheduler]).history\n",
        "model.summary()\n",
        "model.save_weights('./lstm_vae_ckpt.weights.h5')"
      ],
      "metadata": {
        "id": "dTc810ls3gdd",
        "colab": {
          "base_uri": "https://localhost:8080/",
          "height": 916
        },
        "outputId": "0a9c0cf6-c01e-4f61-a2cb-79c3878d8433"
      },
      "execution_count": null,
      "outputs": [
        {
          "output_type": "stream",
          "name": "stdout",
          "text": [
            "Epoch 1/20\n",
            "\u001b[1m1496/1496\u001b[0m \u001b[32m━━━━━━━━━━━━━━━━━━━━\u001b[0m\u001b[37m\u001b[0m \u001b[1m27s\u001b[0m 15ms/step - loss: 0.4482 - learning_rate: 0.0010\n",
            "Epoch 2/20\n",
            "\u001b[1m1496/1496\u001b[0m \u001b[32m━━━━━━━━━━━━━━━━━━━━\u001b[0m\u001b[37m\u001b[0m \u001b[1m22s\u001b[0m 15ms/step - loss: 0.1134 - learning_rate: 9.0000e-04\n",
            "Epoch 3/20\n",
            "\u001b[1m1496/1496\u001b[0m \u001b[32m━━━━━━━━━━━━━━━━━━━━\u001b[0m\u001b[37m\u001b[0m \u001b[1m23s\u001b[0m 15ms/step - loss: 0.1120 - learning_rate: 8.1000e-04\n",
            "Epoch 4/20\n",
            "\u001b[1m1496/1496\u001b[0m \u001b[32m━━━━━━━━━━━━━━━━━━━━\u001b[0m\u001b[37m\u001b[0m \u001b[1m22s\u001b[0m 15ms/step - loss: 0.1114 - learning_rate: 7.2900e-04\n",
            "Epoch 5/20\n",
            "\u001b[1m1496/1496\u001b[0m \u001b[32m━━━━━━━━━━━━━━━━━━━━\u001b[0m\u001b[37m\u001b[0m \u001b[1m24s\u001b[0m 16ms/step - loss: 0.1111 - learning_rate: 6.5610e-04\n",
            "Epoch 6/20\n",
            "\u001b[1m1496/1496\u001b[0m \u001b[32m━━━━━━━━━━━━━━━━━━━━\u001b[0m\u001b[37m\u001b[0m \u001b[1m22s\u001b[0m 15ms/step - loss: 0.1111 - learning_rate: 5.9049e-04\n",
            "Epoch 7/20\n",
            "\u001b[1m1496/1496\u001b[0m \u001b[32m━━━━━━━━━━━━━━━━━━━━\u001b[0m\u001b[37m\u001b[0m \u001b[1m21s\u001b[0m 14ms/step - loss: 0.1111 - learning_rate: 5.3144e-04\n",
            "Epoch 8/20\n",
            "\u001b[1m1496/1496\u001b[0m \u001b[32m━━━━━━━━━━━━━━━━━━━━\u001b[0m\u001b[37m\u001b[0m \u001b[1m42s\u001b[0m 15ms/step - loss: 0.1113 - learning_rate: 4.7830e-04\n",
            "Epoch 9/20\n",
            "\u001b[1m1496/1496\u001b[0m \u001b[32m━━━━━━━━━━━━━━━━━━━━\u001b[0m\u001b[37m\u001b[0m \u001b[1m41s\u001b[0m 15ms/step - loss: 0.1115 - learning_rate: 4.3047e-04\n",
            "Epoch 10/20\n",
            "\u001b[1m1496/1496\u001b[0m \u001b[32m━━━━━━━━━━━━━━━━━━━━\u001b[0m\u001b[37m\u001b[0m \u001b[1m21s\u001b[0m 14ms/step - loss: 0.1119 - learning_rate: 3.8742e-04\n",
            "Epoch 11/20\n",
            "\u001b[1m1496/1496\u001b[0m \u001b[32m━━━━━━━━━━━━━━━━━━━━\u001b[0m\u001b[37m\u001b[0m \u001b[1m22s\u001b[0m 15ms/step - loss: 0.1122 - learning_rate: 3.4868e-04\n",
            "Epoch 12/20\n",
            "\u001b[1m1496/1496\u001b[0m \u001b[32m━━━━━━━━━━━━━━━━━━━━\u001b[0m\u001b[37m\u001b[0m \u001b[1m22s\u001b[0m 15ms/step - loss: 0.1126 - learning_rate: 3.1381e-04\n",
            "Epoch 13/20\n",
            "\u001b[1m1496/1496\u001b[0m \u001b[32m━━━━━━━━━━━━━━━━━━━━\u001b[0m\u001b[37m\u001b[0m \u001b[1m22s\u001b[0m 14ms/step - loss: 0.1130 - learning_rate: 2.8243e-04\n",
            "Epoch 14/20\n",
            "\u001b[1m1496/1496\u001b[0m \u001b[32m━━━━━━━━━━━━━━━━━━━━\u001b[0m\u001b[37m\u001b[0m \u001b[1m41s\u001b[0m 14ms/step - loss: 0.1134 - learning_rate: 2.5419e-04\n",
            "Epoch 15/20\n",
            "\u001b[1m1496/1496\u001b[0m \u001b[32m━━━━━━━━━━━━━━━━━━━━\u001b[0m\u001b[37m\u001b[0m \u001b[1m43s\u001b[0m 16ms/step - loss: 0.1138 - learning_rate: 2.2877e-04\n",
            "Epoch 16/20\n",
            "\u001b[1m1496/1496\u001b[0m \u001b[32m━━━━━━━━━━━━━━━━━━━━\u001b[0m\u001b[37m\u001b[0m \u001b[1m22s\u001b[0m 15ms/step - loss: 0.1142 - learning_rate: 2.0589e-04\n",
            "Epoch 17/20\n",
            "\u001b[1m1496/1496\u001b[0m \u001b[32m━━━━━━━━━━━━━━━━━━━━\u001b[0m\u001b[37m\u001b[0m \u001b[1m23s\u001b[0m 16ms/step - loss: 0.1145 - learning_rate: 1.8530e-04\n",
            "Epoch 18/20\n",
            "\u001b[1m1496/1496\u001b[0m \u001b[32m━━━━━━━━━━━━━━━━━━━━\u001b[0m\u001b[37m\u001b[0m \u001b[1m23s\u001b[0m 15ms/step - loss: 0.1147 - learning_rate: 1.6677e-04\n",
            "Epoch 19/20\n",
            "\u001b[1m1496/1496\u001b[0m \u001b[32m━━━━━━━━━━━━━━━━━━━━\u001b[0m\u001b[37m\u001b[0m \u001b[1m41s\u001b[0m 15ms/step - loss: 0.1149 - learning_rate: 1.5009e-04\n",
            "Epoch 20/20\n",
            "\u001b[1m1496/1496\u001b[0m \u001b[32m━━━━━━━━━━━━━━━━━━━━\u001b[0m\u001b[37m\u001b[0m \u001b[1m22s\u001b[0m 15ms/step - loss: 0.1150 - learning_rate: 1.3509e-04\n"
          ]
        },
        {
          "output_type": "display_data",
          "data": {
            "text/plain": [
              "\u001b[1mModel: \"lstm_vae\"\u001b[0m\n"
            ],
            "text/html": [
              "<pre style=\"white-space:pre;overflow-x:auto;line-height:normal;font-family:Menlo,'DejaVu Sans Mono',consolas,'Courier New',monospace\"><span style=\"font-weight: bold\">Model: \"lstm_vae\"</span>\n",
              "</pre>\n"
            ]
          },
          "metadata": {}
        },
        {
          "output_type": "display_data",
          "data": {
            "text/plain": [
              "┏━━━━━━━━━━━━━━━━━━━━━━━━━━━━━━━━━━━━━━┳━━━━━━━━━━━━━━━━━━━━━━━━━━━━━┳━━━━━━━━━━━━━━━━━┓\n",
              "┃\u001b[1m \u001b[0m\u001b[1mLayer (type)                        \u001b[0m\u001b[1m \u001b[0m┃\u001b[1m \u001b[0m\u001b[1mOutput Shape               \u001b[0m\u001b[1m \u001b[0m┃\u001b[1m \u001b[0m\u001b[1m        Param #\u001b[0m\u001b[1m \u001b[0m┃\n",
              "┡━━━━━━━━━━━━━━━━━━━━━━━━━━━━━━━━━━━━━━╇━━━━━━━━━━━━━━━━━━━━━━━━━━━━━╇━━━━━━━━━━━━━━━━━┩\n",
              "│ encoder (\u001b[38;5;33mEncoder\u001b[0m)                    │ ?                           │           \u001b[38;5;34m2,860\u001b[0m │\n",
              "├──────────────────────────────────────┼─────────────────────────────┼─────────────────┤\n",
              "│ decoder (\u001b[38;5;33mDecoder\u001b[0m)                    │ ?                           │           \u001b[38;5;34m1,445\u001b[0m │\n",
              "└──────────────────────────────────────┴─────────────────────────────┴─────────────────┘\n"
            ],
            "text/html": [
              "<pre style=\"white-space:pre;overflow-x:auto;line-height:normal;font-family:Menlo,'DejaVu Sans Mono',consolas,'Courier New',monospace\">┏━━━━━━━━━━━━━━━━━━━━━━━━━━━━━━━━━━━━━━┳━━━━━━━━━━━━━━━━━━━━━━━━━━━━━┳━━━━━━━━━━━━━━━━━┓\n",
              "┃<span style=\"font-weight: bold\"> Layer (type)                         </span>┃<span style=\"font-weight: bold\"> Output Shape                </span>┃<span style=\"font-weight: bold\">         Param # </span>┃\n",
              "┡━━━━━━━━━━━━━━━━━━━━━━━━━━━━━━━━━━━━━━╇━━━━━━━━━━━━━━━━━━━━━━━━━━━━━╇━━━━━━━━━━━━━━━━━┩\n",
              "│ encoder (<span style=\"color: #0087ff; text-decoration-color: #0087ff\">Encoder</span>)                    │ ?                           │           <span style=\"color: #00af00; text-decoration-color: #00af00\">2,860</span> │\n",
              "├──────────────────────────────────────┼─────────────────────────────┼─────────────────┤\n",
              "│ decoder (<span style=\"color: #0087ff; text-decoration-color: #0087ff\">Decoder</span>)                    │ ?                           │           <span style=\"color: #00af00; text-decoration-color: #00af00\">1,445</span> │\n",
              "└──────────────────────────────────────┴─────────────────────────────┴─────────────────┘\n",
              "</pre>\n"
            ]
          },
          "metadata": {}
        },
        {
          "output_type": "display_data",
          "data": {
            "text/plain": [
              "\u001b[1m Total params: \u001b[0m\u001b[38;5;34m17,222\u001b[0m (67.28 KB)\n"
            ],
            "text/html": [
              "<pre style=\"white-space:pre;overflow-x:auto;line-height:normal;font-family:Menlo,'DejaVu Sans Mono',consolas,'Courier New',monospace\"><span style=\"font-weight: bold\"> Total params: </span><span style=\"color: #00af00; text-decoration-color: #00af00\">17,222</span> (67.28 KB)\n",
              "</pre>\n"
            ]
          },
          "metadata": {}
        },
        {
          "output_type": "display_data",
          "data": {
            "text/plain": [
              "\u001b[1m Trainable params: \u001b[0m\u001b[38;5;34m4,305\u001b[0m (16.82 KB)\n"
            ],
            "text/html": [
              "<pre style=\"white-space:pre;overflow-x:auto;line-height:normal;font-family:Menlo,'DejaVu Sans Mono',consolas,'Courier New',monospace\"><span style=\"font-weight: bold\"> Trainable params: </span><span style=\"color: #00af00; text-decoration-color: #00af00\">4,305</span> (16.82 KB)\n",
              "</pre>\n"
            ]
          },
          "metadata": {}
        },
        {
          "output_type": "display_data",
          "data": {
            "text/plain": [
              "\u001b[1m Non-trainable params: \u001b[0m\u001b[38;5;34m0\u001b[0m (0.00 B)\n"
            ],
            "text/html": [
              "<pre style=\"white-space:pre;overflow-x:auto;line-height:normal;font-family:Menlo,'DejaVu Sans Mono',consolas,'Courier New',monospace\"><span style=\"font-weight: bold\"> Non-trainable params: </span><span style=\"color: #00af00; text-decoration-color: #00af00\">0</span> (0.00 B)\n",
              "</pre>\n"
            ]
          },
          "metadata": {}
        },
        {
          "output_type": "display_data",
          "data": {
            "text/plain": [
              "\u001b[1m Optimizer params: \u001b[0m\u001b[38;5;34m12,917\u001b[0m (50.46 KB)\n"
            ],
            "text/html": [
              "<pre style=\"white-space:pre;overflow-x:auto;line-height:normal;font-family:Menlo,'DejaVu Sans Mono',consolas,'Courier New',monospace\"><span style=\"font-weight: bold\"> Optimizer params: </span><span style=\"color: #00af00; text-decoration-color: #00af00\">12,917</span> (50.46 KB)\n",
              "</pre>\n"
            ]
          },
          "metadata": {}
        }
      ]
    },
    {
      "cell_type": "code",
      "source": [
        "from google.colab import files\n",
        "\n",
        "# files.download('./lstm_vae_ckpt.data-00000-of-00001')\n",
        "# files.download('./lstm_vae_ckpt.index')\n",
        "files.download('./lstm_vae_ckpt.weights.h5')"
      ],
      "metadata": {
        "id": "IdytvxcR97AN",
        "outputId": "1c88c165-d28e-43b3-d739-44cc558fc20a",
        "colab": {
          "base_uri": "https://localhost:8080/",
          "height": 17
        }
      },
      "execution_count": null,
      "outputs": [
        {
          "output_type": "display_data",
          "data": {
            "text/plain": [
              "<IPython.core.display.Javascript object>"
            ],
            "application/javascript": [
              "\n",
              "    async function download(id, filename, size) {\n",
              "      if (!google.colab.kernel.accessAllowed) {\n",
              "        return;\n",
              "      }\n",
              "      const div = document.createElement('div');\n",
              "      const label = document.createElement('label');\n",
              "      label.textContent = `Downloading \"${filename}\": `;\n",
              "      div.appendChild(label);\n",
              "      const progress = document.createElement('progress');\n",
              "      progress.max = size;\n",
              "      div.appendChild(progress);\n",
              "      document.body.appendChild(div);\n",
              "\n",
              "      const buffers = [];\n",
              "      let downloaded = 0;\n",
              "\n",
              "      const channel = await google.colab.kernel.comms.open(id);\n",
              "      // Send a message to notify the kernel that we're ready.\n",
              "      channel.send({})\n",
              "\n",
              "      for await (const message of channel.messages) {\n",
              "        // Send a message to notify the kernel that we're ready.\n",
              "        channel.send({})\n",
              "        if (message.buffers) {\n",
              "          for (const buffer of message.buffers) {\n",
              "            buffers.push(buffer);\n",
              "            downloaded += buffer.byteLength;\n",
              "            progress.value = downloaded;\n",
              "          }\n",
              "        }\n",
              "      }\n",
              "      const blob = new Blob(buffers, {type: 'application/binary'});\n",
              "      const a = document.createElement('a');\n",
              "      a.href = window.URL.createObjectURL(blob);\n",
              "      a.download = filename;\n",
              "      div.appendChild(a);\n",
              "      a.click();\n",
              "      div.remove();\n",
              "    }\n",
              "  "
            ]
          },
          "metadata": {}
        },
        {
          "output_type": "display_data",
          "data": {
            "text/plain": [
              "<IPython.core.display.Javascript object>"
            ],
            "application/javascript": [
              "download(\"download_256a1e9d-e491-4a5d-9dbd-3cbb3888e7b4\", \"lstm_vae_ckpt.weights.h5\", 112020)"
            ]
          },
          "metadata": {}
        }
      ]
    },
    {
      "cell_type": "code",
      "source": [
        "score_cal = model.anomaly_score(data_cal)\n",
        "label_cal = label_cal[:score_cal.shape[0]]"
      ],
      "metadata": {
        "id": "39yOjCzgXs3o",
        "colab": {
          "base_uri": "https://localhost:8080/"
        },
        "outputId": "7f09bbab-1efe-4898-95ae-3d5a542290f2"
      },
      "execution_count": null,
      "outputs": [
        {
          "output_type": "stream",
          "name": "stdout",
          "text": [
            "\u001b[1m54/54\u001b[0m \u001b[32m━━━━━━━━━━━━━━━━━━━━\u001b[0m\u001b[37m\u001b[0m \u001b[1m1s\u001b[0m 9ms/step\n"
          ]
        }
      ]
    },
    {
      "cell_type": "markdown",
      "source": [],
      "metadata": {
        "id": "MHyse8pLXsnN"
      }
    },
    {
      "cell_type": "code",
      "source": [
        "optimize = True\n",
        "param_grid = {'estimator__C': np.logspace(0, 5, 6), 'estimator__gamma': np.logspace(-5, 0, 6)}\n",
        "\n",
        "if optimize:\n",
        "  cal_search = GridSearchCV(CalibratedClassifierCV(SVC(probability=True), cv=3), param_grid, cv=3, verbose=1, scoring='f1')\n",
        "  cal_search.fit(score_cal, label_cal)\n",
        "  cal_model = cal_search.best_estimator_\n",
        "  print(cal_search.best_params_)\n",
        "else:\n",
        "  cal_model = CalibratedClassifierCV(SVC(probability=True, C=1, gamma=0.0001))\n",
        "  cal_model.fit(score_cal, label_cal[:score_cal.shape[0]])"
      ],
      "metadata": {
        "id": "4RV-c7JLXzdG",
        "colab": {
          "base_uri": "https://localhost:8080/"
        },
        "outputId": "25ec86a6-8555-4715-e313-836f4654fda2"
      },
      "execution_count": null,
      "outputs": [
        {
          "output_type": "stream",
          "name": "stdout",
          "text": [
            "Fitting 3 folds for each of 36 candidates, totalling 108 fits\n",
            "{'estimator__C': 1.0, 'estimator__gamma': 0.0001}\n"
          ]
        }
      ]
    },
    {
      "cell_type": "code",
      "source": [
        "score_test = model.anomaly_score(data_test)\n",
        "label_test = label_test[:score_test.shape[0]]\n",
        "\n",
        "y_pred_test = cal_model.predict(score_test)\n",
        "y_score_test = cal_model.predict_proba(score_test)[:, 1]"
      ],
      "metadata": {
        "id": "TWwp9tNhX1lX",
        "colab": {
          "base_uri": "https://localhost:8080/"
        },
        "outputId": "8d62fd6b-7168-43d8-ec02-397b18050fbe"
      },
      "execution_count": null,
      "outputs": [
        {
          "output_type": "stream",
          "name": "stdout",
          "text": [
            "\u001b[1m480/480\u001b[0m \u001b[32m━━━━━━━━━━━━━━━━━━━━\u001b[0m\u001b[37m\u001b[0m \u001b[1m3s\u001b[0m 7ms/step\n"
          ]
        }
      ]
    },
    {
      "cell_type": "code",
      "source": [
        "f1 = sklearn.metrics.f1_score(label_test, y_pred_test)\n",
        "f1"
      ],
      "metadata": {
        "id": "COdAhWWQYDQn",
        "colab": {
          "base_uri": "https://localhost:8080/"
        },
        "outputId": "2ece4b04-1af4-4629-d7d0-77d415dd7e96"
      },
      "execution_count": null,
      "outputs": [
        {
          "output_type": "execute_result",
          "data": {
            "text/plain": [
              "0.40770791075050705"
            ]
          },
          "metadata": {},
          "execution_count": 11
        }
      ]
    },
    {
      "cell_type": "code",
      "source": [
        "fpr, tpr, thresholds = sklearn.metrics.roc_curve(label_test, y_score_test)\n",
        "roc_auc = sklearn.metrics.auc(fpr, tpr)\n",
        "\n",
        "plt.plot(fpr, tpr, label='ROC curve (area = %0.4f)' % roc_auc)\n",
        "plt.xlabel('False Positive Rate')\n",
        "plt.ylabel('True Positive Rate')\n",
        "plt.title('Receiver Operating Characteristic')\n",
        "plt.legend()\n",
        "plt.show()\n",
        "\n",
        "roc_auc"
      ],
      "metadata": {
        "id": "f4ugX2P9YFeT",
        "colab": {
          "base_uri": "https://localhost:8080/",
          "height": 489
        },
        "outputId": "66d6f626-8fd5-4143-efe4-0df0f451dfcc"
      },
      "execution_count": null,
      "outputs": [
        {
          "output_type": "display_data",
          "data": {
            "text/plain": [
              "<Figure size 640x480 with 1 Axes>"
            ],
            "image/png": "[encoded data removed]"
          },
          "metadata": {}
        },
        {
          "output_type": "execute_result",
          "data": {
            "text/plain": [
              "0.8855472620093648"
            ]
          },
          "metadata": {},
          "execution_count": 12
        }
      ]
    },
    {
      "cell_type": "code",
      "source": [
        "precison, recall, thresholds = sklearn.metrics.precision_recall_curve(label_test, y_score_test)\n",
        "prc_auc = sklearn.metrics.auc(recall, precison)\n",
        "\n",
        "plt.plot(recall, precison, label='PRC curve (area = %0.4f)' % prc_auc)\n",
        "plt.xlabel('Recall')\n",
        "plt.ylabel('Precision')\n",
        "plt.title('Precision Recall Curve')\n",
        "plt.legend()\n",
        "plt.show()\n",
        "\n",
        "prc_auc"
      ],
      "metadata": {
        "id": "AVEgvT4zYHsx",
        "colab": {
          "base_uri": "https://localhost:8080/",
          "height": 72
        },
        "outputId": "967d4ffe-6b0e-435f-e2c4-8f1cc28a1845"
      },
      "execution_count": null,
      "outputs": [
        {
          "output_type": "display_data",
          "data": {
            "text/plain": [
              "<Figure size 640x480 with 1 Axes>"
            ],
            "image/png": "[encoded data removed]"
          },
          "metadata": {}
        },
        {
          "output_type": "execute_result",
          "data": {
            "text/plain": [
              "0.2466133115953229"
            ]
          },
          "metadata": {},
          "execution_count": 13
        }
      ]
    }
  ]
}