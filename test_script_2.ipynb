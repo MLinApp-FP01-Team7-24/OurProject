{
  "cells": [
    {
      "cell_type": "code",
      "execution_count": null,
      "metadata": {},
      "outputs": [],
      "source": [
        "!pip install tsfel"
      ]
    },
    {
      "cell_type": "code",
      "execution_count": null,
      "metadata": {
        "id": "wLucIIVc2h-v"
      },
      "outputs": [],
      "source": [
        "import numpy as np\n",
        "import pandas as pd\n",
        "import matplotlib.pyplot as plt\n",
        "import seaborn as sns\n",
        "import os\n",
        "\n",
        "import sklearn\n",
        "from sklearn.svm import SVC\n",
        "from sklearn.calibration import CalibratedClassifierCV\n",
        "from sklearn.model_selection import GridSearchCV\n",
        "import sklearn.metrics\n",
        "from sklearn import preprocessing\n",
        "\n",
        "import torch\n",
        "import torch.nn as nn\n",
        "import torch.utils.data as data_utils\n",
        "\n",
        "import tensorflow as tf\n",
        "\n",
        "\n",
        "np.random.seed(0)\n",
        "tf.random.set_seed(0)"
      ]
    },
    {
      "cell_type": "code",
      "execution_count": null,
      "metadata": {
        "colab": {
          "base_uri": "https://localhost:8080/"
        },
        "id": "CXM4zKFe2pOQ",
        "outputId": "a87c3e70-bd0d-4594-f8ee-8889a732e0bb"
      },
      "outputs": [
        {
          "name": "stdout",
          "output_type": "stream",
          "text": [
            "Cloning into 'OurProject'...\n",
            "remote: Enumerating objects: 1172, done.\u001b[K\n",
            "remote: Counting objects: 100% (158/158), done.\u001b[K\n",
            "remote: Compressing objects: 100% (130/130), done.\u001b[K\n",
            "remote: Total 1172 (delta 53), reused 54 (delta 17), pack-reused 1014\u001b[K\n",
            "Receiving objects: 100% (1172/1172), 159.16 MiB | 21.45 MiB/s, done.\n",
            "Resolving deltas: 100% (254/254), done.\n",
            "/content/OurProject\n"
          ]
        }
      ],
      "source": [
        "!git clone https://github.com/MLinApp-FP01-Team7-24/OurProject.git\n",
        "%cd OurProject"
      ]
    },
    {
      "cell_type": "markdown",
      "metadata": {
        "id": "TixE2y780RO-"
      },
      "source": [
        "# Data load"
      ]
    },
    {
      "cell_type": "code",
      "execution_count": null,
      "metadata": {
        "id": "KFzva7Q62k2r"
      },
      "outputs": [],
      "source": [
        "# Set widnow size and k for point adjustment. 0 is f1, 1 is f1_pa\n",
        "\n",
        "window_size = 20\n",
        "k_pa = 0"
      ]
    },
    {
      "cell_type": "code",
      "execution_count": null,
      "metadata": {
        "colab": {
          "base_uri": "https://localhost:8080/"
        },
        "id": "k08kolJM2ruF",
        "outputId": "1ed73136-1e9f-4d8e-8757-c74d3beecea8"
      },
      "outputs": [
        {
          "name": "stdout",
          "output_type": "stream",
          "text": [
            "Reading training data...\n",
            "Reading calibration data...\n",
            "Reading test data...\n",
            "Reading collisions data...\n",
            "Normalizing data...\n",
            "Getting windows for training data...\n",
            "Getting windows and labels for calibration data...\n",
            "Getting windows and labels for test data...\n",
            "(95795, 20, 55)\n",
            "(3480, 20, 55) (3480,)\n",
            "(30755, 20, 55) (30755,)\n"
          ]
        }
      ],
      "source": [
        "from Models.lstm_vae.data import get_data_windows\n",
        "\n",
        "# Get data for training, calibration and testing in form of numpy arrays. Already windowed and normalized.\n",
        "data_train, data_cal, label_cal, data_test, label_test = get_data_windows(window_size, k_pa)\n",
        "\n",
        "print(data_train.shape)\n",
        "print(data_cal.shape, label_cal.shape)\n",
        "print(data_test.shape, label_test.shape)"
      ]
    },
    {
      "cell_type": "markdown",
      "metadata": {
        "id": "4UfdMs7n99T7"
      },
      "source": [
        "# USAD"
      ]
    },
    {
      "cell_type": "code",
      "execution_count": null,
      "metadata": {
        "id": "gEjeR5lm-EG-"
      },
      "outputs": [],
      "source": [
        "from Models.usad.utils import *\n",
        "from Models.usad.usad import *\n",
        "\n",
        "device = get_default_device()"
      ]
    },
    {
      "cell_type": "markdown",
      "metadata": {
        "id": "aRF17tS_PuqL"
      },
      "source": [
        "## Training"
      ]
    },
    {
      "cell_type": "code",
      "execution_count": null,
      "metadata": {
        "id": "SIeuhMARPwtb"
      },
      "outputs": [],
      "source": [
        "BATCH_SIZE =  256\n",
        "N_EPOCHS = 5\n",
        "hidden_size = 50"
      ]
    },
    {
      "cell_type": "code",
      "execution_count": null,
      "metadata": {
        "id": "PxrCeSMdPtLo"
      },
      "outputs": [],
      "source": [
        "w_size=data_train.shape[1]*data_train.shape[2]\n",
        "z_size=data_train.shape[1]*hidden_size\n",
        "\n",
        "windows_normal_train = data_train[:int(np.floor(.8 *  data_train.shape[0]))]\n",
        "windows_normal_val = data_train[int(np.floor(.8 *  data_train.shape[0])):int(np.floor(data_train.shape[0]))]\n",
        "\n",
        "train_loader = torch.utils.data.DataLoader(data_utils.TensorDataset(\n",
        "    torch.from_numpy(windows_normal_train).float().view(([windows_normal_train.shape[0],w_size]))\n",
        ") , batch_size=BATCH_SIZE, shuffle=True, num_workers=0)\n",
        "\n",
        "val_loader = torch.utils.data.DataLoader(data_utils.TensorDataset(\n",
        "    torch.from_numpy(windows_normal_val).float().view(([windows_normal_val.shape[0],w_size]))\n",
        ") , batch_size=BATCH_SIZE, shuffle=True, num_workers=0)\n",
        "\n",
        "model = UsadModel(w_size, z_size)\n",
        "model = to_device(model,device)"
      ]
    },
    {
      "cell_type": "code",
      "execution_count": null,
      "metadata": {
        "colab": {
          "base_uri": "https://localhost:8080/"
        },
        "id": "14NDRKTuP1Tz",
        "outputId": "a4f33391-9291-4270-b187-3952cc76fedf"
      },
      "outputs": [
        {
          "name": "stdout",
          "output_type": "stream",
          "text": [
            "Epoch [0], val_loss1: 0.0842, val_loss2: 0.0780\n",
            "Epoch [1], val_loss1: 0.0884, val_loss2: -0.0083\n",
            "Epoch [2], val_loss1: 0.0991, val_loss2: -0.0459\n",
            "Epoch [3], val_loss1: 0.1004, val_loss2: -0.0622\n",
            "Epoch [4], val_loss1: 0.0974, val_loss2: -0.0676\n"
          ]
        }
      ],
      "source": [
        "history = training(N_EPOCHS,model,train_loader,val_loader)"
      ]
    },
    {
      "cell_type": "code",
      "execution_count": null,
      "metadata": {
        "id": "5bTujpejVdhL"
      },
      "outputs": [],
      "source": [
        "#!mkdir \"trained_models/USAD\"\n",
        "torch.save({\n",
        "            'encoder': model.encoder.state_dict(),\n",
        "            'decoder1': model.decoder1.state_dict(),\n",
        "            'decoder2': model.decoder2.state_dict()\n",
        "            }, \"trained_models/USAD/model.pth\")"
      ]
    },
    {
      "cell_type": "markdown",
      "metadata": {
        "id": "JjxPZKP3-BD4"
      },
      "source": [
        "## Model load"
      ]
    },
    {
      "cell_type": "code",
      "execution_count": null,
      "metadata": {
        "id": "vcot7yxVe73U"
      },
      "outputs": [],
      "source": [
        "w_size = 1100\n",
        "z_size = 1000"
      ]
    },
    {
      "cell_type": "code",
      "execution_count": null,
      "metadata": {
        "colab": {
          "base_uri": "https://localhost:8080/"
        },
        "id": "5g2jUnqp-dBo",
        "outputId": "24e4a3f8-c183-471e-8e50-7739f38d6069"
      },
      "outputs": [
        {
          "data": {
            "text/plain": [
              "<All keys matched successfully>"
            ]
          },
          "execution_count": 12,
          "metadata": {},
          "output_type": "execute_result"
        }
      ],
      "source": [
        "model = UsadModel(w_size, z_size)\n",
        "model = to_device(model,device)\n",
        "\n",
        "checkpoint = torch.load(\"trained_models/USAD/model.pth\")\n",
        "\n",
        "model.encoder.load_state_dict(checkpoint['encoder'])\n",
        "model.decoder1.load_state_dict(checkpoint['decoder1'])\n",
        "model.decoder2.load_state_dict(checkpoint['decoder2'])"
      ]
    },
    {
      "cell_type": "markdown",
      "metadata": {
        "id": "QqXqg5KgYdSC"
      },
      "source": [
        "## Model Calibration"
      ]
    },
    {
      "cell_type": "code",
      "execution_count": null,
      "metadata": {
        "id": "uH0YRYqfb77k"
      },
      "outputs": [],
      "source": [
        "cal_loader = torch.utils.data.DataLoader(data_utils.TensorDataset(\n",
        "    torch.from_numpy(data_cal).float().view(([data_cal.shape[0],w_size]))\n",
        ") , batch_size=BATCH_SIZE, shuffle=False, num_workers=0)"
      ]
    },
    {
      "cell_type": "code",
      "execution_count": null,
      "metadata": {
        "id": "9cVdrjA_cFJ6"
      },
      "outputs": [],
      "source": [
        "results=testing(model,cal_loader,alpha=0.9,beta=0.1)\n",
        "score_cal=np.concatenate([torch.stack(results[:-1]).flatten().detach().cpu().numpy(),\n",
        "                              results[-1].flatten().detach().cpu().numpy()])"
      ]
    },
    {
      "cell_type": "code",
      "execution_count": null,
      "metadata": {
        "colab": {
          "base_uri": "https://localhost:8080/"
        },
        "id": "0HloDp_sehPb",
        "outputId": "244dd28c-f00b-40ae-e8a7-e9f74699dbc6"
      },
      "outputs": [
        {
          "data": {
            "text/plain": [
              "(3480,)"
            ]
          },
          "execution_count": 58,
          "metadata": {},
          "output_type": "execute_result"
        }
      ],
      "source": [
        "score_cal = score_cal.reshape(-1, 1)\n",
        "score_cal.shape"
      ]
    },
    {
      "cell_type": "code",
      "execution_count": null,
      "metadata": {
        "id": "BYUZ4kNb4mib"
      },
      "outputs": [],
      "source": [
        "# Prova diverse soglie e trova quella che massimizza l'F1-score sui dati di addestramento\n",
        "best_threshold = 0\n",
        "best_f1 = 0\n",
        "for threshold in np.linspace(0, 1, 100):\n",
        "    y_pred = (X_train >= threshold).astype(int)\n",
        "    f1 = f1_score(y_train, y_pred)\n",
        "    if f1 > best_f1:\n",
        "        best_f1 = f1\n",
        "        best_threshold = threshold\n",
        "\n",
        "# Applica la soglia ottimale ai dati di test\n",
        "print(f\"Soglia ottimale da cross-validation: {best_threshold}\")"
      ]
    },
    {
      "cell_type": "code",
      "execution_count": null,
      "metadata": {
        "colab": {
          "base_uri": "https://localhost:8080/",
          "height": 1000
        },
        "id": "hajiN2mnc88_",
        "outputId": "1fa3b367-cbb4-470b-a184-4ad62d8e1007"
      },
      "outputs": [
        {
          "name": "stdout",
          "output_type": "stream",
          "text": [
            "Fitting 3 folds for each of 36 candidates, totalling 108 fits\n"
          ]
        },
        {
          "ename": "ValueError",
          "evalue": "\nAll the 108 fits failed.\nIt is very likely that your model is misconfigured.\nYou can try to debug the error by setting error_score='raise'.\n\nBelow are more details about the failures:\n--------------------------------------------------------------------------------\n36 fits failed with the following error:\nTraceback (most recent call last):\n  File \"/usr/local/lib/python3.10/dist-packages/sklearn/model_selection/_validation.py\", line 686, in _fit_and_score\n    estimator.fit(X_train, y_train, **fit_params)\n  File \"/usr/local/lib/python3.10/dist-packages/sklearn/calibration.py\", line 395, in fit\n    self.calibrated_classifiers_ = parallel(\n  File \"/usr/local/lib/python3.10/dist-packages/sklearn/utils/parallel.py\", line 63, in __call__\n    return super().__call__(iterable_with_config)\n  File \"/usr/local/lib/python3.10/dist-packages/joblib/parallel.py\", line 1918, in __call__\n    return output if self.return_generator else list(output)\n  File \"/usr/local/lib/python3.10/dist-packages/joblib/parallel.py\", line 1847, in _get_sequential_output\n    res = func(*args, **kwargs)\n  File \"/usr/local/lib/python3.10/dist-packages/sklearn/utils/parallel.py\", line 123, in __call__\n    return self.function(*args, **kwargs)\n  File \"/usr/local/lib/python3.10/dist-packages/sklearn/calibration.py\", line 577, in _fit_classifier_calibrator_pair\n    estimator.fit(X_train, y_train, **fit_params_train)\n  File \"/usr/local/lib/python3.10/dist-packages/sklearn/svm/_base.py\", line 192, in fit\n    X, y = self._validate_data(\n  File \"/usr/local/lib/python3.10/dist-packages/sklearn/base.py\", line 584, in _validate_data\n    X, y = check_X_y(X, y, **check_params)\n  File \"/usr/local/lib/python3.10/dist-packages/sklearn/utils/validation.py\", line 1106, in check_X_y\n    X = check_array(\n  File \"/usr/local/lib/python3.10/dist-packages/sklearn/utils/validation.py\", line 902, in check_array\n    raise ValueError(\nValueError: Expected 2D array, got 1D array instead:\narray=[0.07619896 0.07780056 0.07707202 ... 0.06638604 0.06643543 0.06835356].\nReshape your data either using array.reshape(-1, 1) if your data has a single feature or array.reshape(1, -1) if it contains a single sample.\n\n--------------------------------------------------------------------------------\n36 fits failed with the following error:\nTraceback (most recent call last):\n  File \"/usr/local/lib/python3.10/dist-packages/sklearn/model_selection/_validation.py\", line 686, in _fit_and_score\n    estimator.fit(X_train, y_train, **fit_params)\n  File \"/usr/local/lib/python3.10/dist-packages/sklearn/calibration.py\", line 395, in fit\n    self.calibrated_classifiers_ = parallel(\n  File \"/usr/local/lib/python3.10/dist-packages/sklearn/utils/parallel.py\", line 63, in __call__\n    return super().__call__(iterable_with_config)\n  File \"/usr/local/lib/python3.10/dist-packages/joblib/parallel.py\", line 1918, in __call__\n    return output if self.return_generator else list(output)\n  File \"/usr/local/lib/python3.10/dist-packages/joblib/parallel.py\", line 1847, in _get_sequential_output\n    res = func(*args, **kwargs)\n  File \"/usr/local/lib/python3.10/dist-packages/sklearn/utils/parallel.py\", line 123, in __call__\n    return self.function(*args, **kwargs)\n  File \"/usr/local/lib/python3.10/dist-packages/sklearn/calibration.py\", line 577, in _fit_classifier_calibrator_pair\n    estimator.fit(X_train, y_train, **fit_params_train)\n  File \"/usr/local/lib/python3.10/dist-packages/sklearn/svm/_base.py\", line 192, in fit\n    X, y = self._validate_data(\n  File \"/usr/local/lib/python3.10/dist-packages/sklearn/base.py\", line 584, in _validate_data\n    X, y = check_X_y(X, y, **check_params)\n  File \"/usr/local/lib/python3.10/dist-packages/sklearn/utils/validation.py\", line 1106, in check_X_y\n    X = check_array(\n  File \"/usr/local/lib/python3.10/dist-packages/sklearn/utils/validation.py\", line 902, in check_array\n    raise ValueError(\nValueError: Expected 2D array, got 1D array instead:\narray=[0.11936469 0.11861636 0.12130828 ... 0.06638604 0.06643543 0.06835356].\nReshape your data either using array.reshape(-1, 1) if your data has a single feature or array.reshape(1, -1) if it contains a single sample.\n\n--------------------------------------------------------------------------------\n36 fits failed with the following error:\nTraceback (most recent call last):\n  File \"/usr/local/lib/python3.10/dist-packages/sklearn/model_selection/_validation.py\", line 686, in _fit_and_score\n    estimator.fit(X_train, y_train, **fit_params)\n  File \"/usr/local/lib/python3.10/dist-packages/sklearn/calibration.py\", line 395, in fit\n    self.calibrated_classifiers_ = parallel(\n  File \"/usr/local/lib/python3.10/dist-packages/sklearn/utils/parallel.py\", line 63, in __call__\n    return super().__call__(iterable_with_config)\n  File \"/usr/local/lib/python3.10/dist-packages/joblib/parallel.py\", line 1918, in __call__\n    return output if self.return_generator else list(output)\n  File \"/usr/local/lib/python3.10/dist-packages/joblib/parallel.py\", line 1847, in _get_sequential_output\n    res = func(*args, **kwargs)\n  File \"/usr/local/lib/python3.10/dist-packages/sklearn/utils/parallel.py\", line 123, in __call__\n    return self.function(*args, **kwargs)\n  File \"/usr/local/lib/python3.10/dist-packages/sklearn/calibration.py\", line 577, in _fit_classifier_calibrator_pair\n    estimator.fit(X_train, y_train, **fit_params_train)\n  File \"/usr/local/lib/python3.10/dist-packages/sklearn/svm/_base.py\", line 192, in fit\n    X, y = self._validate_data(\n  File \"/usr/local/lib/python3.10/dist-packages/sklearn/base.py\", line 584, in _validate_data\n    X, y = check_X_y(X, y, **check_params)\n  File \"/usr/local/lib/python3.10/dist-packages/sklearn/utils/validation.py\", line 1106, in check_X_y\n    X = check_array(\n  File \"/usr/local/lib/python3.10/dist-packages/sklearn/utils/validation.py\", line 902, in check_array\n    raise ValueError(\nValueError: Expected 2D array, got 1D array instead:\narray=[0.11936469 0.11861636 0.12130828 ... 0.0557888  0.054981   0.057087  ].\nReshape your data either using array.reshape(-1, 1) if your data has a single feature or array.reshape(1, -1) if it contains a single sample.\n",
          "output_type": "error",
          "traceback": [
            "\u001b[0;31m---------------------------------------------------------------------------\u001b[0m",
            "\u001b[0;31mValueError\u001b[0m                                Traceback (most recent call last)",
            "\u001b[0;32m<ipython-input-38-d79d0785c8c0>\u001b[0m in \u001b[0;36m<cell line: 4>\u001b[0;34m()\u001b[0m\n\u001b[1;32m      4\u001b[0m \u001b[0;32mif\u001b[0m \u001b[0moptimize\u001b[0m\u001b[0;34m:\u001b[0m\u001b[0;34m\u001b[0m\u001b[0;34m\u001b[0m\u001b[0m\n\u001b[1;32m      5\u001b[0m   \u001b[0mcal_search\u001b[0m \u001b[0;34m=\u001b[0m \u001b[0mGridSearchCV\u001b[0m\u001b[0;34m(\u001b[0m\u001b[0mCalibratedClassifierCV\u001b[0m\u001b[0;34m(\u001b[0m\u001b[0mSVC\u001b[0m\u001b[0;34m(\u001b[0m\u001b[0mprobability\u001b[0m\u001b[0;34m=\u001b[0m\u001b[0;32mTrue\u001b[0m\u001b[0;34m)\u001b[0m\u001b[0;34m,\u001b[0m \u001b[0mcv\u001b[0m\u001b[0;34m=\u001b[0m\u001b[0;36m3\u001b[0m\u001b[0;34m)\u001b[0m\u001b[0;34m,\u001b[0m \u001b[0mparam_grid\u001b[0m\u001b[0;34m,\u001b[0m \u001b[0mcv\u001b[0m\u001b[0;34m=\u001b[0m\u001b[0;36m3\u001b[0m\u001b[0;34m,\u001b[0m \u001b[0mverbose\u001b[0m\u001b[0;34m=\u001b[0m\u001b[0;36m1\u001b[0m\u001b[0;34m,\u001b[0m \u001b[0mscoring\u001b[0m\u001b[0;34m=\u001b[0m\u001b[0;34m'f1'\u001b[0m\u001b[0;34m)\u001b[0m\u001b[0;34m\u001b[0m\u001b[0;34m\u001b[0m\u001b[0m\n\u001b[0;32m----> 6\u001b[0;31m   \u001b[0mcal_search\u001b[0m\u001b[0;34m.\u001b[0m\u001b[0mfit\u001b[0m\u001b[0;34m(\u001b[0m\u001b[0mscore_cal\u001b[0m\u001b[0;34m,\u001b[0m \u001b[0mlabel_cal\u001b[0m\u001b[0;34m)\u001b[0m\u001b[0;34m\u001b[0m\u001b[0;34m\u001b[0m\u001b[0m\n\u001b[0m\u001b[1;32m      7\u001b[0m   \u001b[0mcal_model\u001b[0m \u001b[0;34m=\u001b[0m \u001b[0mcal_search\u001b[0m\u001b[0;34m.\u001b[0m\u001b[0mbest_estimator_\u001b[0m\u001b[0;34m\u001b[0m\u001b[0;34m\u001b[0m\u001b[0m\n\u001b[1;32m      8\u001b[0m   \u001b[0mprint\u001b[0m\u001b[0;34m(\u001b[0m\u001b[0mcal_search\u001b[0m\u001b[0;34m.\u001b[0m\u001b[0mbest_params_\u001b[0m\u001b[0;34m)\u001b[0m\u001b[0;34m\u001b[0m\u001b[0;34m\u001b[0m\u001b[0m\n",
            "\u001b[0;32m/usr/local/lib/python3.10/dist-packages/sklearn/model_selection/_search.py\u001b[0m in \u001b[0;36mfit\u001b[0;34m(self, X, y, groups, **fit_params)\u001b[0m\n\u001b[1;32m    872\u001b[0m                 \u001b[0;32mreturn\u001b[0m \u001b[0mresults\u001b[0m\u001b[0;34m\u001b[0m\u001b[0;34m\u001b[0m\u001b[0m\n\u001b[1;32m    873\u001b[0m \u001b[0;34m\u001b[0m\u001b[0m\n\u001b[0;32m--> 874\u001b[0;31m             \u001b[0mself\u001b[0m\u001b[0;34m.\u001b[0m\u001b[0m_run_search\u001b[0m\u001b[0;34m(\u001b[0m\u001b[0mevaluate_candidates\u001b[0m\u001b[0;34m)\u001b[0m\u001b[0;34m\u001b[0m\u001b[0;34m\u001b[0m\u001b[0m\n\u001b[0m\u001b[1;32m    875\u001b[0m \u001b[0;34m\u001b[0m\u001b[0m\n\u001b[1;32m    876\u001b[0m             \u001b[0;31m# multimetric is determined here because in the case of a callable\u001b[0m\u001b[0;34m\u001b[0m\u001b[0;34m\u001b[0m\u001b[0m\n",
            "\u001b[0;32m/usr/local/lib/python3.10/dist-packages/sklearn/model_selection/_search.py\u001b[0m in \u001b[0;36m_run_search\u001b[0;34m(self, evaluate_candidates)\u001b[0m\n\u001b[1;32m   1386\u001b[0m     \u001b[0;32mdef\u001b[0m \u001b[0m_run_search\u001b[0m\u001b[0;34m(\u001b[0m\u001b[0mself\u001b[0m\u001b[0;34m,\u001b[0m \u001b[0mevaluate_candidates\u001b[0m\u001b[0;34m)\u001b[0m\u001b[0;34m:\u001b[0m\u001b[0;34m\u001b[0m\u001b[0;34m\u001b[0m\u001b[0m\n\u001b[1;32m   1387\u001b[0m         \u001b[0;34m\"\"\"Search all candidates in param_grid\"\"\"\u001b[0m\u001b[0;34m\u001b[0m\u001b[0;34m\u001b[0m\u001b[0m\n\u001b[0;32m-> 1388\u001b[0;31m         \u001b[0mevaluate_candidates\u001b[0m\u001b[0;34m(\u001b[0m\u001b[0mParameterGrid\u001b[0m\u001b[0;34m(\u001b[0m\u001b[0mself\u001b[0m\u001b[0;34m.\u001b[0m\u001b[0mparam_grid\u001b[0m\u001b[0;34m)\u001b[0m\u001b[0;34m)\u001b[0m\u001b[0;34m\u001b[0m\u001b[0;34m\u001b[0m\u001b[0m\n\u001b[0m\u001b[1;32m   1389\u001b[0m \u001b[0;34m\u001b[0m\u001b[0m\n\u001b[1;32m   1390\u001b[0m \u001b[0;34m\u001b[0m\u001b[0m\n",
            "\u001b[0;32m/usr/local/lib/python3.10/dist-packages/sklearn/model_selection/_search.py\u001b[0m in \u001b[0;36mevaluate_candidates\u001b[0;34m(candidate_params, cv, more_results)\u001b[0m\n\u001b[1;32m    849\u001b[0m                     )\n\u001b[1;32m    850\u001b[0m \u001b[0;34m\u001b[0m\u001b[0m\n\u001b[0;32m--> 851\u001b[0;31m                 \u001b[0m_warn_or_raise_about_fit_failures\u001b[0m\u001b[0;34m(\u001b[0m\u001b[0mout\u001b[0m\u001b[0;34m,\u001b[0m \u001b[0mself\u001b[0m\u001b[0;34m.\u001b[0m\u001b[0merror_score\u001b[0m\u001b[0;34m)\u001b[0m\u001b[0;34m\u001b[0m\u001b[0;34m\u001b[0m\u001b[0m\n\u001b[0m\u001b[1;32m    852\u001b[0m \u001b[0;34m\u001b[0m\u001b[0m\n\u001b[1;32m    853\u001b[0m                 \u001b[0;31m# For callable self.scoring, the return type is only know after\u001b[0m\u001b[0;34m\u001b[0m\u001b[0;34m\u001b[0m\u001b[0m\n",
            "\u001b[0;32m/usr/local/lib/python3.10/dist-packages/sklearn/model_selection/_validation.py\u001b[0m in \u001b[0;36m_warn_or_raise_about_fit_failures\u001b[0;34m(results, error_score)\u001b[0m\n\u001b[1;32m    365\u001b[0m                 \u001b[0;34mf\"Below are more details about the failures:\\n{fit_errors_summary}\"\u001b[0m\u001b[0;34m\u001b[0m\u001b[0;34m\u001b[0m\u001b[0m\n\u001b[1;32m    366\u001b[0m             )\n\u001b[0;32m--> 367\u001b[0;31m             \u001b[0;32mraise\u001b[0m \u001b[0mValueError\u001b[0m\u001b[0;34m(\u001b[0m\u001b[0mall_fits_failed_message\u001b[0m\u001b[0;34m)\u001b[0m\u001b[0;34m\u001b[0m\u001b[0;34m\u001b[0m\u001b[0m\n\u001b[0m\u001b[1;32m    368\u001b[0m \u001b[0;34m\u001b[0m\u001b[0m\n\u001b[1;32m    369\u001b[0m         \u001b[0;32melse\u001b[0m\u001b[0;34m:\u001b[0m\u001b[0;34m\u001b[0m\u001b[0;34m\u001b[0m\u001b[0m\n",
            "\u001b[0;31mValueError\u001b[0m: \nAll the 108 fits failed.\nIt is very likely that your model is misconfigured.\nYou can try to debug the error by setting error_score='raise'.\n\nBelow are more details about the failures:\n--------------------------------------------------------------------------------\n36 fits failed with the following error:\nTraceback (most recent call last):\n  File \"/usr/local/lib/python3.10/dist-packages/sklearn/model_selection/_validation.py\", line 686, in _fit_and_score\n    estimator.fit(X_train, y_train, **fit_params)\n  File \"/usr/local/lib/python3.10/dist-packages/sklearn/calibration.py\", line 395, in fit\n    self.calibrated_classifiers_ = parallel(\n  File \"/usr/local/lib/python3.10/dist-packages/sklearn/utils/parallel.py\", line 63, in __call__\n    return super().__call__(iterable_with_config)\n  File \"/usr/local/lib/python3.10/dist-packages/joblib/parallel.py\", line 1918, in __call__\n    return output if self.return_generator else list(output)\n  File \"/usr/local/lib/python3.10/dist-packages/joblib/parallel.py\", line 1847, in _get_sequential_output\n    res = func(*args, **kwargs)\n  File \"/usr/local/lib/python3.10/dist-packages/sklearn/utils/parallel.py\", line 123, in __call__\n    return self.function(*args, **kwargs)\n  File \"/usr/local/lib/python3.10/dist-packages/sklearn/calibration.py\", line 577, in _fit_classifier_calibrator_pair\n    estimator.fit(X_train, y_train, **fit_params_train)\n  File \"/usr/local/lib/python3.10/dist-packages/sklearn/svm/_base.py\", line 192, in fit\n    X, y = self._validate_data(\n  File \"/usr/local/lib/python3.10/dist-packages/sklearn/base.py\", line 584, in _validate_data\n    X, y = check_X_y(X, y, **check_params)\n  File \"/usr/local/lib/python3.10/dist-packages/sklearn/utils/validation.py\", line 1106, in check_X_y\n    X = check_array(\n  File \"/usr/local/lib/python3.10/dist-packages/sklearn/utils/validation.py\", line 902, in check_array\n    raise ValueError(\nValueError: Expected 2D array, got 1D array instead:\narray=[0.07619896 0.07780056 0.07707202 ... 0.06638604 0.06643543 0.06835356].\nReshape your data either using array.reshape(-1, 1) if your data has a single feature or array.reshape(1, -1) if it contains a single sample.\n\n--------------------------------------------------------------------------------\n36 fits failed with the following error:\nTraceback (most recent call last):\n  File \"/usr/local/lib/python3.10/dist-packages/sklearn/model_selection/_validation.py\", line 686, in _fit_and_score\n    estimator.fit(X_train, y_train, **fit_params)\n  File \"/usr/local/lib/python3.10/dist-packages/sklearn/calibration.py\", line 395, in fit\n    self.calibrated_classifiers_ = parallel(\n  File \"/usr/local/lib/python3.10/dist-packages/sklearn/utils/parallel.py\", line 63, in __call__\n    return super().__call__(iterable_with_config)\n  File \"/usr/local/lib/python3.10/dist-packages/joblib/parallel.py\", line 1918, in __call__\n    return output if self.return_generator else list(output)\n  File \"/usr/local/lib/python3.10/dist-packages/joblib/parallel.py\", line 1847, in _get_sequential_output\n    res = func(*args, **kwargs)\n  File \"/usr/local/lib/python3.10/dist-packages/sklearn/utils/parallel.py\", line 123, in __call__\n    return self.function(*args, **kwargs)\n  File \"/usr/local/lib/python3.10/dist-packages/sklearn/calibration.py\", line 577, in _fit_classifier_calibrator_pair\n    estimator.fit(X_train, y_train, **fit_params_train)\n  File \"/usr/local/lib/python3.10/dist-packages/sklearn/svm/_base.py\", line 192, in fit\n    X, y = self._validate_data(\n  File \"/usr/local/lib/python3.10/dist-packages/sklearn/base.py\", line 584, in _validate_data\n    X, y = check_X_y(X, y, **check_params)\n  File \"/usr/local/lib/python3.10/dist-packages/sklearn/utils/validation.py\", line 1106, in check_X_y\n    X = check_array(\n  File \"/usr/local/lib/python3.10/dist-packages/sklearn/utils/validation.py\", line 902, in check_array\n    raise ValueError(\nValueError: Expected 2D array, got 1D array instead:\narray=[0.11936469 0.11861636 0.12130828 ... 0.06638604 0.06643543 0.06835356].\nReshape your data either using array.reshape(-1, 1) if your data has a single feature or array.reshape(1, -1) if it contains a single sample.\n\n--------------------------------------------------------------------------------\n36 fits failed with the following error:\nTraceback (most recent call last):\n  File \"/usr/local/lib/python3.10/dist-packages/sklearn/model_selection/_validation.py\", line 686, in _fit_and_score\n    estimator.fit(X_train, y_train, **fit_params)\n  File \"/usr/local/lib/python3.10/dist-packages/sklearn/calibration.py\", line 395, in fit\n    self.calibrated_classifiers_ = parallel(\n  File \"/usr/local/lib/python3.10/dist-packages/sklearn/utils/parallel.py\", line 63, in __call__\n    return super().__call__(iterable_with_config)\n  File \"/usr/local/lib/python3.10/dist-packages/joblib/parallel.py\", line 1918, in __call__\n    return output if self.return_generator else list(output)\n  File \"/usr/local/lib/python3.10/dist-packages/joblib/parallel.py\", line 1847, in _get_sequential_output\n    res = func(*args, **kwargs)\n  File \"/usr/local/lib/python3.10/dist-packages/sklearn/utils/parallel.py\", line 123, in __call__\n    return self.function(*args, **kwargs)\n  File \"/usr/local/lib/python3.10/dist-packages/sklearn/calibration.py\", line 577, in _fit_classifier_calibrator_pair\n    estimator.fit(X_train, y_train, **fit_params_train)\n  File \"/usr/local/lib/python3.10/dist-packages/sklearn/svm/_base.py\", line 192, in fit\n    X, y = self._validate_data(\n  File \"/usr/local/lib/python3.10/dist-packages/sklearn/base.py\", line 584, in _validate_data\n    X, y = check_X_y(X, y, **check_params)\n  File \"/usr/local/lib/python3.10/dist-packages/sklearn/utils/validation.py\", line 1106, in check_X_y\n    X = check_array(\n  File \"/usr/local/lib/python3.10/dist-packages/sklearn/utils/validation.py\", line 902, in check_array\n    raise ValueError(\nValueError: Expected 2D array, got 1D array instead:\narray=[0.11936469 0.11861636 0.12130828 ... 0.0557888  0.054981   0.057087  ].\nReshape your data either using array.reshape(-1, 1) if your data has a single feature or array.reshape(1, -1) if it contains a single sample.\n"
          ]
        }
      ],
      "source": [
        "optimize = True\n",
        "param_grid = {'estimator__C': np.logspace(0, 5, 6), 'estimator__gamma': np.logspace(-5, 0, 6)}\n",
        "\n",
        "if optimize:\n",
        "  cal_search = GridSearchCV(CalibratedClassifierCV(SVC(probability=True), cv=3), param_grid, cv=3, verbose=1, scoring='f1')\n",
        "  cal_search.fit(score_cal, label_cal)\n",
        "  cal_model = cal_search.best_estimator_\n",
        "  print(cal_search.best_params_)\n",
        "else:\n",
        "  cal_model = CalibratedClassifierCV(SVC(probability=True, C=10, gamma=1e-3))\n",
        "  cal_model.fit(score_cal, label_cal[:score_cal.shape[0]])"
      ]
    },
    {
      "cell_type": "markdown",
      "metadata": {
        "id": "cu3dsdTVb3u1"
      },
      "source": [
        "## Model Test"
      ]
    },
    {
      "cell_type": "code",
      "execution_count": null,
      "metadata": {
        "id": "cR7jdvTDY-lC"
      },
      "outputs": [],
      "source": [
        "test_loader = torch.utils.data.DataLoader(data_utils.TensorDataset(\n",
        "    torch.from_numpy(data_test).float().view(([data_test.shape[0],w_size]))\n",
        ") , batch_size=BATCH_SIZE, shuffle=False, num_workers=0)"
      ]
    },
    {
      "cell_type": "code",
      "execution_count": null,
      "metadata": {
        "colab": {
          "base_uri": "https://localhost:8080/",
          "height": 297
        },
        "id": "nwsic8cBYfvi",
        "outputId": "c9f0c580-657a-4c99-d968-53c5649f88cb"
      },
      "outputs": [
        {
          "name": "stdout",
          "output_type": "stream",
          "text": [
            "torch.Size([256, 1100])\n"
          ]
        },
        {
          "ename": "AttributeError",
          "evalue": "'list' object has no attribute 'shape'",
          "output_type": "error",
          "traceback": [
            "\u001b[0;31m---------------------------------------------------------------------------\u001b[0m",
            "\u001b[0;31mAttributeError\u001b[0m                            Traceback (most recent call last)",
            "\u001b[0;32m<ipython-input-14-ac24cc8eb62d>\u001b[0m in \u001b[0;36m<cell line: 1>\u001b[0;34m()\u001b[0m\n\u001b[0;32m----> 1\u001b[0;31m \u001b[0mresults\u001b[0m\u001b[0;34m=\u001b[0m\u001b[0mtesting\u001b[0m\u001b[0;34m(\u001b[0m\u001b[0mmodel\u001b[0m\u001b[0;34m,\u001b[0m\u001b[0mtest_loader\u001b[0m\u001b[0;34m,\u001b[0m\u001b[0malpha\u001b[0m\u001b[0;34m=\u001b[0m\u001b[0;36m0.9\u001b[0m\u001b[0;34m,\u001b[0m\u001b[0mbeta\u001b[0m\u001b[0;34m=\u001b[0m\u001b[0;36m0.1\u001b[0m\u001b[0;34m)\u001b[0m\u001b[0;34m\u001b[0m\u001b[0;34m\u001b[0m\u001b[0m\n\u001b[0m\u001b[1;32m      2\u001b[0m \u001b[0mtype\u001b[0m\u001b[0;34m(\u001b[0m\u001b[0mresults\u001b[0m\u001b[0;34m[\u001b[0m\u001b[0;36m0\u001b[0m\u001b[0;34m]\u001b[0m\u001b[0;34m)\u001b[0m\u001b[0;34m\u001b[0m\u001b[0;34m\u001b[0m\u001b[0m\n",
            "\u001b[0;32m/content/OurProject/Models/usad/usad.py\u001b[0m in \u001b[0;36mtesting\u001b[0;34m(model, test_loader, alpha, beta)\u001b[0m\n\u001b[1;32m    116\u001b[0m             \u001b[0mprint\u001b[0m\u001b[0;34m(\u001b[0m\u001b[0mw1\u001b[0m\u001b[0;34m.\u001b[0m\u001b[0mshape\u001b[0m\u001b[0;34m)\u001b[0m\u001b[0;34m\u001b[0m\u001b[0;34m\u001b[0m\u001b[0m\n\u001b[1;32m    117\u001b[0m             \u001b[0mresults\u001b[0m\u001b[0;34m.\u001b[0m\u001b[0mappend\u001b[0m\u001b[0;34m(\u001b[0m\u001b[0malpha\u001b[0m\u001b[0;34m*\u001b[0m\u001b[0mtorch\u001b[0m\u001b[0;34m.\u001b[0m\u001b[0mmean\u001b[0m\u001b[0;34m(\u001b[0m\u001b[0;34m(\u001b[0m\u001b[0mbatch\u001b[0m\u001b[0;34m-\u001b[0m\u001b[0mw1\u001b[0m\u001b[0;34m)\u001b[0m\u001b[0;34m**\u001b[0m\u001b[0;36m2\u001b[0m\u001b[0;34m,\u001b[0m\u001b[0maxis\u001b[0m\u001b[0;34m=\u001b[0m\u001b[0;36m1\u001b[0m\u001b[0;34m)\u001b[0m\u001b[0;34m+\u001b[0m\u001b[0mbeta\u001b[0m\u001b[0;34m*\u001b[0m\u001b[0mtorch\u001b[0m\u001b[0;34m.\u001b[0m\u001b[0mmean\u001b[0m\u001b[0;34m(\u001b[0m\u001b[0;34m(\u001b[0m\u001b[0mbatch\u001b[0m\u001b[0;34m-\u001b[0m\u001b[0mw2\u001b[0m\u001b[0;34m)\u001b[0m\u001b[0;34m**\u001b[0m\u001b[0;36m2\u001b[0m\u001b[0;34m,\u001b[0m\u001b[0maxis\u001b[0m\u001b[0;34m=\u001b[0m\u001b[0;36m1\u001b[0m\u001b[0;34m)\u001b[0m\u001b[0;34m)\u001b[0m\u001b[0;34m\u001b[0m\u001b[0;34m\u001b[0m\u001b[0m\n\u001b[0;32m--> 118\u001b[0;31m             \u001b[0mprint\u001b[0m\u001b[0;34m(\u001b[0m\u001b[0mresults\u001b[0m\u001b[0;34m.\u001b[0m\u001b[0mshape\u001b[0m\u001b[0;34m)\u001b[0m\u001b[0;34m\u001b[0m\u001b[0;34m\u001b[0m\u001b[0m\n\u001b[0m\u001b[1;32m    119\u001b[0m             \u001b[0;32mraise\u001b[0m \u001b[0;34m\"SUCA\"\u001b[0m\u001b[0;34m\u001b[0m\u001b[0;34m\u001b[0m\u001b[0m\n\u001b[1;32m    120\u001b[0m     \u001b[0;32mreturn\u001b[0m \u001b[0mresults\u001b[0m\u001b[0;34m\u001b[0m\u001b[0;34m\u001b[0m\u001b[0m\n",
            "\u001b[0;31mAttributeError\u001b[0m: 'list' object has no attribute 'shape'"
          ]
        }
      ],
      "source": [
        "results=testing(model,test_loader,alpha=0.9,beta=0.1)\n",
        "type(results[0])"
      ]
    },
    {
      "cell_type": "markdown",
      "metadata": {
        "id": "Pd4JbPM_98Ap"
      },
      "source": [
        "# LSTM_VAE"
      ]
    },
    {
      "cell_type": "markdown",
      "metadata": {
        "id": "sBlUd1Pn0RPA"
      },
      "source": [
        "# Model load"
      ]
    },
    {
      "cell_type": "code",
      "execution_count": null,
      "metadata": {
        "id": "SsxwWBC4DNON"
      },
      "outputs": [],
      "source": [
        "# Set parameters to load the model\n",
        "x_dim = data_cal.shape[2]\n",
        "lstm_h_dim = 10\n",
        "z_dim = 10"
      ]
    },
    {
      "cell_type": "code",
      "execution_count": null,
      "metadata": {
        "colab": {
          "base_uri": "https://localhost:8080/"
        },
        "id": "dTc810ls3gdd",
        "outputId": "385a991a-b6ad-48ea-e709-3cfd0b86a28f"
      },
      "outputs": [
        {
          "name": "stderr",
          "output_type": "stream",
          "text": [
            "WARNING:tensorflow:Layer encoder_lstm will not use cuDNN kernels since it doesn't meet the criteria. It will use a generic GPU kernel as fallback when running on GPU.\n",
            "WARNING:tensorflow:Layer decoder_lstm will not use cuDNN kernels since it doesn't meet the criteria. It will use a generic GPU kernel as fallback when running on GPU.\n"
          ]
        },
        {
          "data": {
            "text/plain": [
              "<tensorflow.python.checkpoint.checkpoint.CheckpointLoadStatus at 0x7a594a24e590>"
            ]
          },
          "execution_count": 40,
          "metadata": {},
          "output_type": "execute_result"
        }
      ],
      "source": [
        "from Models.lstm_vae.model import LSTM_VAE\n",
        "\n",
        "model = LSTM_VAE(window_size, x_dim, lstm_h_dim, z_dim, dtype='float32')\n",
        "model.compile()\n",
        "model.load_weights('./trained_models/lstm_vae_ckpt.weights.h5')"
      ]
    },
    {
      "cell_type": "markdown",
      "metadata": {
        "id": "O-JGmKf70RPC"
      },
      "source": [
        "# Model calibration"
      ]
    },
    {
      "cell_type": "code",
      "execution_count": null,
      "metadata": {
        "colab": {
          "base_uri": "https://localhost:8080/"
        },
        "id": "39yOjCzgXs3o",
        "outputId": "2d4dd0b3-dda6-40e5-b3e6-1b109d442bc0"
      },
      "outputs": [
        {
          "name": "stdout",
          "output_type": "stream",
          "text": [
            "54/54 [==============================] - 2s 8ms/step\n"
          ]
        }
      ],
      "source": [
        "score_cal = model.anomaly_score(data_cal)\n",
        "label_cal = label_cal[:score_cal.shape[0]]"
      ]
    },
    {
      "cell_type": "code",
      "execution_count": null,
      "metadata": {
        "colab": {
          "base_uri": "https://localhost:8080/"
        },
        "id": "DPv9Fbf4eYv6",
        "outputId": "7df7591b-ef1c-4a8c-e000-0c71f05d9482"
      },
      "outputs": [
        {
          "data": {
            "text/plain": [
              "(3456, 55)"
            ]
          },
          "execution_count": 42,
          "metadata": {},
          "output_type": "execute_result"
        }
      ],
      "source": [
        "score_cal.shape"
      ]
    },
    {
      "cell_type": "markdown",
      "metadata": {
        "id": "MHyse8pLXsnN"
      },
      "source": []
    },
    {
      "cell_type": "code",
      "execution_count": null,
      "metadata": {
        "colab": {
          "base_uri": "https://localhost:8080/"
        },
        "id": "4RV-c7JLXzdG",
        "outputId": "dfa64467-d32f-4627-9f72-a956080b7786"
      },
      "outputs": [
        {
          "name": "stdout",
          "output_type": "stream",
          "text": [
            "Fitting 3 folds for each of 36 candidates, totalling 108 fits\n",
            "{'estimator__C': 1.0, 'estimator__gamma': 0.0001}\n"
          ]
        }
      ],
      "source": [
        "optimize = True\n",
        "param_grid = {'estimator__C': np.logspace(0, 5, 6), 'estimator__gamma': np.logspace(-5, 0, 6)}\n",
        "\n",
        "if optimize:\n",
        "  cal_search = GridSearchCV(CalibratedClassifierCV(SVC(probability=True), cv=3), param_grid, cv=3, verbose=1, scoring='f1')\n",
        "  cal_search.fit(score_cal, label_cal)\n",
        "  cal_model = cal_search.best_estimator_\n",
        "  print(cal_search.best_params_)\n",
        "else:\n",
        "  cal_model = CalibratedClassifierCV(SVC(probability=True, C=10, gamma=1e-3))\n",
        "  cal_model.fit(score_cal, label_cal[:score_cal.shape[0]])"
      ]
    },
    {
      "cell_type": "markdown",
      "metadata": {
        "id": "66pUzeZv0RPD"
      },
      "source": [
        "# Model evaluation"
      ]
    },
    {
      "cell_type": "code",
      "execution_count": null,
      "metadata": {
        "id": "4s64GruZ3nfg"
      },
      "outputs": [],
      "source": [
        "def evaluate_model(label_test, y_pred_test, y_score_test, verbose = True) :\n",
        "  score_test = model.anomaly_score(data_test)\n",
        "  label_test = label_test[:score_test.shape[0]]\n",
        "\n",
        "  y_pred_test = cal_model.predict(score_test)\n",
        "  y_score_test = cal_model.predict_proba(score_test)[:, 1]\n",
        "\n",
        "  f1 = sklearn.metrics.f1_score(label_test, y_pred_test)\n",
        "\n",
        "  fpr, tpr, thresholds = sklearn.metrics.roc_curve(label_test, y_score_test)\n",
        "  roc_auc = sklearn.metrics.auc(fpr, tpr)\n",
        "\n",
        "  if verbose:\n",
        "    plt.plot(fpr, tpr, label='ROC curve (area = %0.4f)' % roc_auc)\n",
        "    plt.xlabel('False Positive Rate')\n",
        "    plt.ylabel('True Positive Rate')\n",
        "    plt.title('Receiver Operating Characteristic')\n",
        "    plt.legend()\n",
        "    plt.show()\n",
        "\n",
        "  precison, recall, thresholds = sklearn.metrics.precision_recall_curve(label_test, y_score_test)\n",
        "  prc_auc = sklearn.metrics.auc(recall, precison)\n",
        "\n",
        "  if verbose:\n",
        "    plt.plot(recall, precison, label='PRC curve (area = %0.4f)' % prc_auc)\n",
        "    plt.xlabel('Recall')\n",
        "    plt.ylabel('Precision')\n",
        "    plt.title('Precision Recall Curve')\n",
        "    plt.legend()\n",
        "    plt.show()\n",
        "\n",
        "  return f1, roc_auc, prc_auc"
      ]
    },
    {
      "cell_type": "code",
      "execution_count": null,
      "metadata": {
        "colab": {
          "base_uri": "https://localhost:8080/"
        },
        "id": "TWwp9tNhX1lX",
        "outputId": "7f5f1fd4-1678-44cd-ba42-b71d16ea3a94"
      },
      "outputs": [
        {
          "name": "stdout",
          "output_type": "stream",
          "text": [
            "480/480 [==============================] - 4s 7ms/step\n"
          ]
        }
      ],
      "source": [
        "score_test = model.anomaly_score(data_test)\n",
        "label_test = label_test[:score_test.shape[0]]\n",
        "\n",
        "y_pred_test = cal_model.predict(score_test)\n",
        "y_score_test = cal_model.predict_proba(score_test)[:, 1]"
      ]
    },
    {
      "cell_type": "code",
      "execution_count": null,
      "metadata": {
        "colab": {
          "base_uri": "https://localhost:8080/",
          "height": 944
        },
        "id": "COdAhWWQYDQn",
        "outputId": "96eee0f1-5155-494a-87b6-6512bc1c46cc"
      },
      "outputs": [
        {
          "name": "stdout",
          "output_type": "stream",
          "text": [
            "480/480 [==============================] - 4s 8ms/step\n"
          ]
        },
        {
          "data": {
            "image/png": "[encoded data removed]",
            "text/plain": [
              "<Figure size 640x480 with 1 Axes>"
            ]
          },
          "metadata": {},
          "output_type": "display_data"
        },
        {
          "data": {
            "image/png": "[encoded data removed]",
            "text/plain": [
              "<Figure size 640x480 with 1 Axes>"
            ]
          },
          "metadata": {},
          "output_type": "display_data"
        }
      ],
      "source": [
        "f1, roc_auc, prc_auc = evaluate_model(label_test, y_pred_test, y_score_test, verbose = True)"
      ]
    },
    {
      "cell_type": "code",
      "execution_count": null,
      "metadata": {
        "colab": {
          "base_uri": "https://localhost:8080/"
        },
        "id": "mDr2CI5o6wbR",
        "outputId": "cfd84d87-fe57-47be-dc65-07b0436e27ab"
      },
      "outputs": [
        {
          "name": "stdout",
          "output_type": "stream",
          "text": [
            "f1: 0.3749356223175966, roc_auc: 0.7743290038433722, prc_auc: 0.22625127047779248\n"
          ]
        }
      ],
      "source": [
        "print(f\"f1: {f1}, roc_auc: {roc_auc}, prc_auc: {prc_auc}\")"
      ]
    },
    {
      "cell_type": "markdown",
      "metadata": {
        "id": "Z47XKxP432La"
      },
      "source": [
        "\n",
        "\n",
        "```\n",
        "# Questo è formattato come codice\n",
        "```\n",
        "\n",
        "#TimeVQVAE"
      ]
    },
    {
      "cell_type": "code",
      "execution_count": null,
      "metadata": {
        "colab": {
          "base_uri": "https://localhost:8080/"
        },
        "id": "FwbhF9l4-LO6",
        "outputId": "e374f0d7-d89f-4d33-c35a-2315b4c8658d"
      },
      "outputs": [
        {
          "name": "stdout",
          "output_type": "stream",
          "text": [
            "Collecting einops (from -r /content/OurProject/Models/TimeVQVAE-main/requirements.txt (line 1))\n",
            "  Downloading einops-0.8.0-py3-none-any.whl.metadata (12 kB)\n",
            "Requirement already satisfied: matplotlib in /usr/local/lib/python3.10/dist-packages (from -r /content/OurProject/Models/TimeVQVAE-main/requirements.txt (line 2)) (3.7.1)\n",
            "Requirement already satisfied: numpy<2.0 in /usr/local/lib/python3.10/dist-packages (from -r /content/OurProject/Models/TimeVQVAE-main/requirements.txt (line 3)) (1.25.2)\n",
            "Requirement already satisfied: pandas in /usr/local/lib/python3.10/dist-packages (from -r /content/OurProject/Models/TimeVQVAE-main/requirements.txt (line 4)) (2.0.3)\n",
            "Collecting pytorch_lightning==1.9.0 (from -r /content/OurProject/Models/TimeVQVAE-main/requirements.txt (line 5))\n",
            "  Downloading pytorch_lightning-1.9.0-py3-none-any.whl.metadata (23 kB)\n",
            "Requirement already satisfied: PyYAML in /usr/local/lib/python3.10/dist-packages (from -r /content/OurProject/Models/TimeVQVAE-main/requirements.txt (line 6)) (6.0.1)\n",
            "Requirement already satisfied: Requests in /usr/local/lib/python3.10/dist-packages (from -r /content/OurProject/Models/TimeVQVAE-main/requirements.txt (line 7)) (2.31.0)\n",
            "Requirement already satisfied: scikit_learn in /usr/local/lib/python3.10/dist-packages (from -r /content/OurProject/Models/TimeVQVAE-main/requirements.txt (line 8)) (1.2.2)\n",
            "Requirement already satisfied: scipy in /usr/local/lib/python3.10/dist-packages (from -r /content/OurProject/Models/TimeVQVAE-main/requirements.txt (line 9)) (1.11.4)\n",
            "Collecting wget (from -r /content/OurProject/Models/TimeVQVAE-main/requirements.txt (line 10))\n",
            "  Downloading wget-3.2.zip (10 kB)\n",
            "  Preparing metadata (setup.py) ... \u001b[?25l\u001b[?25hdone\n",
            "Collecting supervised_fcn (from -r /content/OurProject/Models/TimeVQVAE-main/requirements.txt (line 11))\n",
            "  Downloading supervised_fcn-1.7.9-py3-none-any.whl.metadata (347 bytes)\n",
            "Collecting x_transformers==1.7.15 (from -r /content/OurProject/Models/TimeVQVAE-main/requirements.txt (line 12))\n",
            "  Downloading x_transformers-1.7.15-py3-none-any.whl.metadata (663 bytes)\n",
            "Collecting wandb (from -r /content/OurProject/Models/TimeVQVAE-main/requirements.txt (line 13))\n",
            "  Downloading wandb-0.17.5-py3-none-manylinux_2_5_x86_64.manylinux1_x86_64.manylinux_2_17_x86_64.manylinux2014_x86_64.whl.metadata (10 kB)\n",
            "Requirement already satisfied: PyWavelets in /usr/local/lib/python3.10/dist-packages (from -r /content/OurProject/Models/TimeVQVAE-main/requirements.txt (line 14)) (1.6.0)\n",
            "Requirement already satisfied: torch>=1.10.0 in /usr/local/lib/python3.10/dist-packages (from pytorch_lightning==1.9.0->-r /content/OurProject/Models/TimeVQVAE-main/requirements.txt (line 5)) (2.3.1+cu121)\n",
            "Requirement already satisfied: tqdm>=4.57.0 in /usr/local/lib/python3.10/dist-packages (from pytorch_lightning==1.9.0->-r /content/OurProject/Models/TimeVQVAE-main/requirements.txt (line 5)) (4.66.4)\n",
            "Requirement already satisfied: fsspec>2021.06.0 in /usr/local/lib/python3.10/dist-packages (from fsspec[http]>2021.06.0->pytorch_lightning==1.9.0->-r /content/OurProject/Models/TimeVQVAE-main/requirements.txt (line 5)) (2023.6.0)\n",
            "Collecting torchmetrics>=0.7.0 (from pytorch_lightning==1.9.0->-r /content/OurProject/Models/TimeVQVAE-main/requirements.txt (line 5))\n",
            "  Downloading torchmetrics-1.4.0.post0-py3-none-any.whl.metadata (19 kB)\n",
            "Requirement already satisfied: packaging>=17.1 in /usr/local/lib/python3.10/dist-packages (from pytorch_lightning==1.9.0->-r /content/OurProject/Models/TimeVQVAE-main/requirements.txt (line 5)) (24.1)\n",
            "Requirement already satisfied: typing-extensions>=4.0.0 in /usr/local/lib/python3.10/dist-packages (from pytorch_lightning==1.9.0->-r /content/OurProject/Models/TimeVQVAE-main/requirements.txt (line 5)) (4.12.2)\n",
            "Collecting lightning-utilities>=0.4.2 (from pytorch_lightning==1.9.0->-r /content/OurProject/Models/TimeVQVAE-main/requirements.txt (line 5))\n",
            "  Downloading lightning_utilities-0.11.6-py3-none-any.whl.metadata (5.2 kB)\n",
            "Requirement already satisfied: contourpy>=1.0.1 in /usr/local/lib/python3.10/dist-packages (from matplotlib->-r /content/OurProject/Models/TimeVQVAE-main/requirements.txt (line 2)) (1.2.1)\n",
            "Requirement already satisfied: cycler>=0.10 in /usr/local/lib/python3.10/dist-packages (from matplotlib->-r /content/OurProject/Models/TimeVQVAE-main/requirements.txt (line 2)) (0.12.1)\n",
            "Requirement already satisfied: fonttools>=4.22.0 in /usr/local/lib/python3.10/dist-packages (from matplotlib->-r /content/OurProject/Models/TimeVQVAE-main/requirements.txt (line 2)) (4.53.1)\n",
            "Requirement already satisfied: kiwisolver>=1.0.1 in /usr/local/lib/python3.10/dist-packages (from matplotlib->-r /content/OurProject/Models/TimeVQVAE-main/requirements.txt (line 2)) (1.4.5)\n",
            "Requirement already satisfied: pillow>=6.2.0 in /usr/local/lib/python3.10/dist-packages (from matplotlib->-r /content/OurProject/Models/TimeVQVAE-main/requirements.txt (line 2)) (9.4.0)\n",
            "Requirement already satisfied: pyparsing>=2.3.1 in /usr/local/lib/python3.10/dist-packages (from matplotlib->-r /content/OurProject/Models/TimeVQVAE-main/requirements.txt (line 2)) (3.1.2)\n",
            "Requirement already satisfied: python-dateutil>=2.7 in /usr/local/lib/python3.10/dist-packages (from matplotlib->-r /content/OurProject/Models/TimeVQVAE-main/requirements.txt (line 2)) (2.8.2)\n",
            "Requirement already satisfied: pytz>=2020.1 in /usr/local/lib/python3.10/dist-packages (from pandas->-r /content/OurProject/Models/TimeVQVAE-main/requirements.txt (line 4)) (2023.4)\n",
            "Requirement already satisfied: tzdata>=2022.1 in /usr/local/lib/python3.10/dist-packages (from pandas->-r /content/OurProject/Models/TimeVQVAE-main/requirements.txt (line 4)) (2024.1)\n",
            "Requirement already satisfied: charset-normalizer<4,>=2 in /usr/local/lib/python3.10/dist-packages (from Requests->-r /content/OurProject/Models/TimeVQVAE-main/requirements.txt (line 7)) (3.3.2)\n",
            "Requirement already satisfied: idna<4,>=2.5 in /usr/local/lib/python3.10/dist-packages (from Requests->-r /content/OurProject/Models/TimeVQVAE-main/requirements.txt (line 7)) (3.7)\n",
            "Requirement already satisfied: urllib3<3,>=1.21.1 in /usr/local/lib/python3.10/dist-packages (from Requests->-r /content/OurProject/Models/TimeVQVAE-main/requirements.txt (line 7)) (2.0.7)\n",
            "Requirement already satisfied: certifi>=2017.4.17 in /usr/local/lib/python3.10/dist-packages (from Requests->-r /content/OurProject/Models/TimeVQVAE-main/requirements.txt (line 7)) (2024.7.4)\n",
            "Requirement already satisfied: joblib>=1.1.1 in /usr/local/lib/python3.10/dist-packages (from scikit_learn->-r /content/OurProject/Models/TimeVQVAE-main/requirements.txt (line 8)) (1.4.2)\n",
            "Requirement already satisfied: threadpoolctl>=2.0.0 in /usr/local/lib/python3.10/dist-packages (from scikit_learn->-r /content/OurProject/Models/TimeVQVAE-main/requirements.txt (line 8)) (3.5.0)\n",
            "Requirement already satisfied: click!=8.0.0,>=7.1 in /usr/local/lib/python3.10/dist-packages (from wandb->-r /content/OurProject/Models/TimeVQVAE-main/requirements.txt (line 13)) (8.1.7)\n",
            "Collecting docker-pycreds>=0.4.0 (from wandb->-r /content/OurProject/Models/TimeVQVAE-main/requirements.txt (line 13))\n",
            "  Downloading docker_pycreds-0.4.0-py2.py3-none-any.whl.metadata (1.8 kB)\n",
            "Collecting gitpython!=3.1.29,>=1.0.0 (from wandb->-r /content/OurProject/Models/TimeVQVAE-main/requirements.txt (line 13))\n",
            "  Downloading GitPython-3.1.43-py3-none-any.whl.metadata (13 kB)\n",
            "Requirement already satisfied: platformdirs in /usr/local/lib/python3.10/dist-packages (from wandb->-r /content/OurProject/Models/TimeVQVAE-main/requirements.txt (line 13)) (4.2.2)\n",
            "Requirement already satisfied: protobuf!=4.21.0,<6,>=3.19.0 in /usr/local/lib/python3.10/dist-packages (from wandb->-r /content/OurProject/Models/TimeVQVAE-main/requirements.txt (line 13)) (3.20.3)\n",
            "Requirement already satisfied: psutil>=5.0.0 in /usr/local/lib/python3.10/dist-packages (from wandb->-r /content/OurProject/Models/TimeVQVAE-main/requirements.txt (line 13)) (5.9.5)\n",
            "Collecting sentry-sdk>=1.0.0 (from wandb->-r /content/OurProject/Models/TimeVQVAE-main/requirements.txt (line 13))\n",
            "  Downloading sentry_sdk-2.11.0-py2.py3-none-any.whl.metadata (14 kB)\n",
            "Collecting setproctitle (from wandb->-r /content/OurProject/Models/TimeVQVAE-main/requirements.txt (line 13))\n",
            "  Downloading setproctitle-1.3.3-cp310-cp310-manylinux_2_5_x86_64.manylinux1_x86_64.manylinux_2_17_x86_64.manylinux2014_x86_64.whl.metadata (9.9 kB)\n",
            "Requirement already satisfied: setuptools in /usr/local/lib/python3.10/dist-packages (from wandb->-r /content/OurProject/Models/TimeVQVAE-main/requirements.txt (line 13)) (71.0.4)\n",
            "Requirement already satisfied: six>=1.4.0 in /usr/local/lib/python3.10/dist-packages (from docker-pycreds>=0.4.0->wandb->-r /content/OurProject/Models/TimeVQVAE-main/requirements.txt (line 13)) (1.16.0)\n",
            "Requirement already satisfied: aiohttp!=4.0.0a0,!=4.0.0a1 in /usr/local/lib/python3.10/dist-packages (from fsspec[http]>2021.06.0->pytorch_lightning==1.9.0->-r /content/OurProject/Models/TimeVQVAE-main/requirements.txt (line 5)) (3.9.5)\n",
            "Collecting gitdb<5,>=4.0.1 (from gitpython!=3.1.29,>=1.0.0->wandb->-r /content/OurProject/Models/TimeVQVAE-main/requirements.txt (line 13))\n",
            "  Downloading gitdb-4.0.11-py3-none-any.whl.metadata (1.2 kB)\n",
            "Requirement already satisfied: filelock in /usr/local/lib/python3.10/dist-packages (from torch>=1.10.0->pytorch_lightning==1.9.0->-r /content/OurProject/Models/TimeVQVAE-main/requirements.txt (line 5)) (3.15.4)\n",
            "Requirement already satisfied: sympy in /usr/local/lib/python3.10/dist-packages (from torch>=1.10.0->pytorch_lightning==1.9.0->-r /content/OurProject/Models/TimeVQVAE-main/requirements.txt (line 5)) (1.13.1)\n",
            "Requirement already satisfied: networkx in /usr/local/lib/python3.10/dist-packages (from torch>=1.10.0->pytorch_lightning==1.9.0->-r /content/OurProject/Models/TimeVQVAE-main/requirements.txt (line 5)) (3.3)\n",
            "Requirement already satisfied: jinja2 in /usr/local/lib/python3.10/dist-packages (from torch>=1.10.0->pytorch_lightning==1.9.0->-r /content/OurProject/Models/TimeVQVAE-main/requirements.txt (line 5)) (3.1.4)\n",
            "Collecting nvidia-cuda-nvrtc-cu12==12.1.105 (from torch>=1.10.0->pytorch_lightning==1.9.0->-r /content/OurProject/Models/TimeVQVAE-main/requirements.txt (line 5))\n",
            "  Using cached nvidia_cuda_nvrtc_cu12-12.1.105-py3-none-manylinux1_x86_64.whl.metadata (1.5 kB)\n",
            "Collecting nvidia-cuda-runtime-cu12==12.1.105 (from torch>=1.10.0->pytorch_lightning==1.9.0->-r /content/OurProject/Models/TimeVQVAE-main/requirements.txt (line 5))\n",
            "  Using cached nvidia_cuda_runtime_cu12-12.1.105-py3-none-manylinux1_x86_64.whl.metadata (1.5 kB)\n",
            "Collecting nvidia-cuda-cupti-cu12==12.1.105 (from torch>=1.10.0->pytorch_lightning==1.9.0->-r /content/OurProject/Models/TimeVQVAE-main/requirements.txt (line 5))\n",
            "  Using cached nvidia_cuda_cupti_cu12-12.1.105-py3-none-manylinux1_x86_64.whl.metadata (1.6 kB)\n",
            "Collecting nvidia-cudnn-cu12==8.9.2.26 (from torch>=1.10.0->pytorch_lightning==1.9.0->-r /content/OurProject/Models/TimeVQVAE-main/requirements.txt (line 5))\n",
            "  Using cached nvidia_cudnn_cu12-8.9.2.26-py3-none-manylinux1_x86_64.whl.metadata (1.6 kB)\n",
            "Collecting nvidia-cublas-cu12==12.1.3.1 (from torch>=1.10.0->pytorch_lightning==1.9.0->-r /content/OurProject/Models/TimeVQVAE-main/requirements.txt (line 5))\n",
            "  Using cached nvidia_cublas_cu12-12.1.3.1-py3-none-manylinux1_x86_64.whl.metadata (1.5 kB)\n",
            "Collecting nvidia-cufft-cu12==11.0.2.54 (from torch>=1.10.0->pytorch_lightning==1.9.0->-r /content/OurProject/Models/TimeVQVAE-main/requirements.txt (line 5))\n",
            "  Using cached nvidia_cufft_cu12-11.0.2.54-py3-none-manylinux1_x86_64.whl.metadata (1.5 kB)\n",
            "Collecting nvidia-curand-cu12==10.3.2.106 (from torch>=1.10.0->pytorch_lightning==1.9.0->-r /content/OurProject/Models/TimeVQVAE-main/requirements.txt (line 5))\n",
            "  Using cached nvidia_curand_cu12-10.3.2.106-py3-none-manylinux1_x86_64.whl.metadata (1.5 kB)\n",
            "Collecting nvidia-cusolver-cu12==11.4.5.107 (from torch>=1.10.0->pytorch_lightning==1.9.0->-r /content/OurProject/Models/TimeVQVAE-main/requirements.txt (line 5))\n",
            "  Using cached nvidia_cusolver_cu12-11.4.5.107-py3-none-manylinux1_x86_64.whl.metadata (1.6 kB)\n",
            "Collecting nvidia-cusparse-cu12==12.1.0.106 (from torch>=1.10.0->pytorch_lightning==1.9.0->-r /content/OurProject/Models/TimeVQVAE-main/requirements.txt (line 5))\n",
            "  Using cached nvidia_cusparse_cu12-12.1.0.106-py3-none-manylinux1_x86_64.whl.metadata (1.6 kB)\n",
            "Collecting nvidia-nccl-cu12==2.20.5 (from torch>=1.10.0->pytorch_lightning==1.9.0->-r /content/OurProject/Models/TimeVQVAE-main/requirements.txt (line 5))\n",
            "  Using cached nvidia_nccl_cu12-2.20.5-py3-none-manylinux2014_x86_64.whl.metadata (1.8 kB)\n",
            "Collecting nvidia-nvtx-cu12==12.1.105 (from torch>=1.10.0->pytorch_lightning==1.9.0->-r /content/OurProject/Models/TimeVQVAE-main/requirements.txt (line 5))\n",
            "  Using cached nvidia_nvtx_cu12-12.1.105-py3-none-manylinux1_x86_64.whl.metadata (1.7 kB)\n",
            "Requirement already satisfied: triton==2.3.1 in /usr/local/lib/python3.10/dist-packages (from torch>=1.10.0->pytorch_lightning==1.9.0->-r /content/OurProject/Models/TimeVQVAE-main/requirements.txt (line 5)) (2.3.1)\n",
            "Collecting nvidia-nvjitlink-cu12 (from nvidia-cusolver-cu12==11.4.5.107->torch>=1.10.0->pytorch_lightning==1.9.0->-r /content/OurProject/Models/TimeVQVAE-main/requirements.txt (line 5))\n",
            "  Downloading nvidia_nvjitlink_cu12-12.5.82-py3-none-manylinux2014_x86_64.whl.metadata (1.5 kB)\n",
            "Requirement already satisfied: aiosignal>=1.1.2 in /usr/local/lib/python3.10/dist-packages (from aiohttp!=4.0.0a0,!=4.0.0a1->fsspec[http]>2021.06.0->pytorch_lightning==1.9.0->-r /content/OurProject/Models/TimeVQVAE-main/requirements.txt (line 5)) (1.3.1)\n",
            "Requirement already satisfied: attrs>=17.3.0 in /usr/local/lib/python3.10/dist-packages (from aiohttp!=4.0.0a0,!=4.0.0a1->fsspec[http]>2021.06.0->pytorch_lightning==1.9.0->-r /content/OurProject/Models/TimeVQVAE-main/requirements.txt (line 5)) (23.2.0)\n",
            "Requirement already satisfied: frozenlist>=1.1.1 in /usr/local/lib/python3.10/dist-packages (from aiohttp!=4.0.0a0,!=4.0.0a1->fsspec[http]>2021.06.0->pytorch_lightning==1.9.0->-r /content/OurProject/Models/TimeVQVAE-main/requirements.txt (line 5)) (1.4.1)\n",
            "Requirement already satisfied: multidict<7.0,>=4.5 in /usr/local/lib/python3.10/dist-packages (from aiohttp!=4.0.0a0,!=4.0.0a1->fsspec[http]>2021.06.0->pytorch_lightning==1.9.0->-r /content/OurProject/Models/TimeVQVAE-main/requirements.txt (line 5)) (6.0.5)\n",
            "Requirement already satisfied: yarl<2.0,>=1.0 in /usr/local/lib/python3.10/dist-packages (from aiohttp!=4.0.0a0,!=4.0.0a1->fsspec[http]>2021.06.0->pytorch_lightning==1.9.0->-r /content/OurProject/Models/TimeVQVAE-main/requirements.txt (line 5)) (1.9.4)\n",
            "Requirement already satisfied: async-timeout<5.0,>=4.0 in /usr/local/lib/python3.10/dist-packages (from aiohttp!=4.0.0a0,!=4.0.0a1->fsspec[http]>2021.06.0->pytorch_lightning==1.9.0->-r /content/OurProject/Models/TimeVQVAE-main/requirements.txt (line 5)) (4.0.3)\n",
            "Collecting smmap<6,>=3.0.1 (from gitdb<5,>=4.0.1->gitpython!=3.1.29,>=1.0.0->wandb->-r /content/OurProject/Models/TimeVQVAE-main/requirements.txt (line 13))\n",
            "  Downloading smmap-5.0.1-py3-none-any.whl.metadata (4.3 kB)\n",
            "Requirement already satisfied: MarkupSafe>=2.0 in /usr/local/lib/python3.10/dist-packages (from jinja2->torch>=1.10.0->pytorch_lightning==1.9.0->-r /content/OurProject/Models/TimeVQVAE-main/requirements.txt (line 5)) (2.1.5)\n",
            "Requirement already satisfied: mpmath<1.4,>=1.1.0 in /usr/local/lib/python3.10/dist-packages (from sympy->torch>=1.10.0->pytorch_lightning==1.9.0->-r /content/OurProject/Models/TimeVQVAE-main/requirements.txt (line 5)) (1.3.0)\n",
            "Downloading pytorch_lightning-1.9.0-py3-none-any.whl (825 kB)\n",
            "\u001b[2K   \u001b[90m━━━━━━━━━━━━━━━━━━━━━━━━━━━━━━━━━━━━━━━━\u001b[0m \u001b[32m825.8/825.8 kB\u001b[0m \u001b[31m31.2 MB/s\u001b[0m eta \u001b[36m0:00:00\u001b[0m\n",
            "\u001b[?25hDownloading x_transformers-1.7.15-py3-none-any.whl (19 kB)\n",
            "Downloading einops-0.8.0-py3-none-any.whl (43 kB)\n",
            "\u001b[2K   \u001b[90m━━━━━━━━━━━━━━━━━━━━━━━━━━━━━━━━━━━━━━━━\u001b[0m \u001b[32m43.2/43.2 kB\u001b[0m \u001b[31m3.7 MB/s\u001b[0m eta \u001b[36m0:00:00\u001b[0m\n",
            "\u001b[?25hDownloading supervised_fcn-1.7.9-py3-none-any.whl (25 kB)\n",
            "Downloading wandb-0.17.5-py3-none-manylinux_2_5_x86_64.manylinux1_x86_64.manylinux_2_17_x86_64.manylinux2014_x86_64.whl (6.8 MB)\n",
            "\u001b[2K   \u001b[90m━━━━━━━━━━━━━━━━━━━━━━━━━━━━━━━━━━━━━━━━\u001b[0m \u001b[32m6.8/6.8 MB\u001b[0m \u001b[31m101.4 MB/s\u001b[0m eta \u001b[36m0:00:00\u001b[0m\n",
            "\u001b[?25hDownloading docker_pycreds-0.4.0-py2.py3-none-any.whl (9.0 kB)\n",
            "Downloading GitPython-3.1.43-py3-none-any.whl (207 kB)\n",
            "\u001b[2K   \u001b[90m━━━━━━━━━━━━━━━━━━━━━━━━━━━━━━━━━━━━━━━━\u001b[0m \u001b[32m207.3/207.3 kB\u001b[0m \u001b[31m18.9 MB/s\u001b[0m eta \u001b[36m0:00:00\u001b[0m\n",
            "\u001b[?25hDownloading lightning_utilities-0.11.6-py3-none-any.whl (26 kB)\n",
            "Downloading sentry_sdk-2.11.0-py2.py3-none-any.whl (303 kB)\n",
            "\u001b[2K   \u001b[90m━━━━━━━━━━━━━━━━━━━━━━━━━━━━━━━━━━━━━━━━\u001b[0m \u001b[32m303.6/303.6 kB\u001b[0m \u001b[31m26.0 MB/s\u001b[0m eta \u001b[36m0:00:00\u001b[0m\n",
            "\u001b[?25hUsing cached nvidia_cublas_cu12-12.1.3.1-py3-none-manylinux1_x86_64.whl (410.6 MB)\n",
            "Using cached nvidia_cuda_cupti_cu12-12.1.105-py3-none-manylinux1_x86_64.whl (14.1 MB)\n",
            "Using cached nvidia_cuda_nvrtc_cu12-12.1.105-py3-none-manylinux1_x86_64.whl (23.7 MB)\n",
            "Using cached nvidia_cuda_runtime_cu12-12.1.105-py3-none-manylinux1_x86_64.whl (823 kB)\n",
            "Using cached nvidia_cudnn_cu12-8.9.2.26-py3-none-manylinux1_x86_64.whl (731.7 MB)\n",
            "Using cached nvidia_cufft_cu12-11.0.2.54-py3-none-manylinux1_x86_64.whl (121.6 MB)\n",
            "Using cached nvidia_curand_cu12-10.3.2.106-py3-none-manylinux1_x86_64.whl (56.5 MB)\n",
            "Using cached nvidia_cusolver_cu12-11.4.5.107-py3-none-manylinux1_x86_64.whl (124.2 MB)\n",
            "Using cached nvidia_cusparse_cu12-12.1.0.106-py3-none-manylinux1_x86_64.whl (196.0 MB)\n",
            "Using cached nvidia_nccl_cu12-2.20.5-py3-none-manylinux2014_x86_64.whl (176.2 MB)\n",
            "Using cached nvidia_nvtx_cu12-12.1.105-py3-none-manylinux1_x86_64.whl (99 kB)\n",
            "Downloading torchmetrics-1.4.0.post0-py3-none-any.whl (868 kB)\n",
            "\u001b[2K   \u001b[90m━━━━━━━━━━━━━━━━━━━━━━━━━━━━━━━━━━━━━━━━\u001b[0m \u001b[32m868.8/868.8 kB\u001b[0m \u001b[31m1.6 MB/s\u001b[0m eta \u001b[36m0:00:00\u001b[0m\n",
            "\u001b[?25hDownloading setproctitle-1.3.3-cp310-cp310-manylinux_2_5_x86_64.manylinux1_x86_64.manylinux_2_17_x86_64.manylinux2014_x86_64.whl (30 kB)\n",
            "Downloading gitdb-4.0.11-py3-none-any.whl (62 kB)\n",
            "\u001b[2K   \u001b[90m━━━━━━━━━━━━━━━━━━━━━━━━━━━━━━━━━━━━━━━━\u001b[0m \u001b[32m62.7/62.7 kB\u001b[0m \u001b[31m5.7 MB/s\u001b[0m eta \u001b[36m0:00:00\u001b[0m\n",
            "\u001b[?25hDownloading smmap-5.0.1-py3-none-any.whl (24 kB)\n",
            "Downloading nvidia_nvjitlink_cu12-12.5.82-py3-none-manylinux2014_x86_64.whl (21.3 MB)\n",
            "\u001b[2K   \u001b[90m━━━━━━━━━━━━━━━━━━━━━━━━━━━━━━━━━━━━━━━━\u001b[0m \u001b[32m21.3/21.3 MB\u001b[0m \u001b[31m77.6 MB/s\u001b[0m eta \u001b[36m0:00:00\u001b[0m\n",
            "\u001b[?25hBuilding wheels for collected packages: wget\n",
            "  Building wheel for wget (setup.py) ... \u001b[?25l\u001b[?25hdone\n",
            "  Created wheel for wget: filename=wget-3.2-py3-none-any.whl size=9656 sha256=8e647650329d6028be186faf512feac6a14ed4a8c6d86695254b030394a6f386\n",
            "  Stored in directory: /root/.cache/pip/wheels/8b/f1/7f/5c94f0a7a505ca1c81cd1d9208ae2064675d97582078e6c769\n",
            "Successfully built wget\n",
            "Installing collected packages: wget, supervised_fcn, smmap, setproctitle, sentry-sdk, nvidia-nvtx-cu12, nvidia-nvjitlink-cu12, nvidia-nccl-cu12, nvidia-curand-cu12, nvidia-cufft-cu12, nvidia-cuda-runtime-cu12, nvidia-cuda-nvrtc-cu12, nvidia-cuda-cupti-cu12, nvidia-cublas-cu12, lightning-utilities, einops, docker-pycreds, nvidia-cusparse-cu12, nvidia-cudnn-cu12, gitdb, nvidia-cusolver-cu12, gitpython, wandb, x_transformers, torchmetrics, pytorch_lightning\n",
            "Successfully installed docker-pycreds-0.4.0 einops-0.8.0 gitdb-4.0.11 gitpython-3.1.43 lightning-utilities-0.11.6 nvidia-cublas-cu12-12.1.3.1 nvidia-cuda-cupti-cu12-12.1.105 nvidia-cuda-nvrtc-cu12-12.1.105 nvidia-cuda-runtime-cu12-12.1.105 nvidia-cudnn-cu12-8.9.2.26 nvidia-cufft-cu12-11.0.2.54 nvidia-curand-cu12-10.3.2.106 nvidia-cusolver-cu12-11.4.5.107 nvidia-cusparse-cu12-12.1.0.106 nvidia-nccl-cu12-2.20.5 nvidia-nvjitlink-cu12-12.5.82 nvidia-nvtx-cu12-12.1.105 pytorch_lightning-1.9.0 sentry-sdk-2.11.0 setproctitle-1.3.3 smmap-5.0.1 supervised_fcn-1.7.9 torchmetrics-1.4.0.post0 wandb-0.17.5 wget-3.2 x_transformers-1.7.15\n"
          ]
        }
      ],
      "source": [
        "#@title Install...\n",
        "!pip install -r '/content/OurProject/Models/TimeVQVAE-main/requirements.txt'"
      ]
    },
    {
      "cell_type": "code",
      "execution_count": null,
      "metadata": {
        "cellView": "form",
        "id": "MYeB6His41jK"
      },
      "outputs": [],
      "source": [
        "#@title Imports...\n",
        "import sys\n",
        "VQVAE_PATH = 'Models/TimeVQVAE-main'\n",
        "sys.path.append(os.path.join(os.getcwd(),VQVAE_PATH))\n",
        "from stage1 import *\n",
        "from utils import *\n",
        "from experiments.exp_vq_vae import ExpVQVAE\n",
        "from tqdm import tqdm\n",
        "\n",
        "dataset_name = 'KUKA'\n",
        "config = load_yaml_param_settings(os.path.join(VQVAE_PATH, 'configs/config.yaml'))"
      ]
    },
    {
      "cell_type": "code",
      "execution_count": null,
      "metadata": {
        "cellView": "form",
        "colab": {
          "base_uri": "https://localhost:8080/"
        },
        "id": "hsoPIG7w4lG-",
        "outputId": "d9be6c54-9af2-4e40-b780-9b8a59a05b6a"
      },
      "outputs": [
        {
          "name": "stdout",
          "output_type": "stream",
          "text": [
            "reading data...\n",
            "preprocessing ... \n",
            "windowing ts 1/4\n",
            "windowing ts 2/4\n",
            "windowing ts 3/4\n",
            "windowing ts 4/4\n",
            "files were read...\n",
            "95419 (100, 55)\n",
            "--- Train Dataset ---\n",
            "df len is: 95419 window shape is: (100, 55)\n",
            "reading anomalies...\n",
            "start adding high risk\n",
            "found the excel and loaded it...\n",
            "reading data...\n",
            "preprocessing ... \n",
            "windowing ts 1/3\n",
            "windowing ts 2/3\n",
            "windowing ts 3/3\n",
            "files were read...\n",
            "33978 (100, 55)\n",
            "--- Train Dataset ---\n",
            "df len is: 33978 window shape is: (100, 55)\n",
            "reading anomalies...\n",
            "start adding high risk\n",
            "found the excel and loaded it...\n",
            "reading data...\n",
            "windowing ts 1/3\n",
            "windowing ts 2/3\n",
            "windowing ts 3/3\n",
            "files were read...\n",
            "33978 (100, 55)\n",
            "--- Test Dataset ---\n",
            "df len is: 33978 window shape is: (100, 55)\n"
          ]
        }
      ],
      "source": [
        "#@title Datasets...\n",
        "from sklearn.preprocessing import OneHotEncoder\n",
        "from torch.utils.data import Dataset, DataLoader\n",
        "pd.options.mode.copy_on_write = True\n",
        "from datasets.kuka_dataset.KukaDataset import KukaDataset\n",
        "from tqdm import tqdm\n",
        "\n",
        "dataset_name = 'KUKA'\n",
        "TRAIN_DATA_PATH = \"kuka_dataset/normal\"\n",
        "CAL_DATA_PATH = \"kuka_dataset/collisions\"#take only file 6\n",
        "TEST_DATA_PATH = \"kuka_dataset/collisions\"#take only files 1, 5\n",
        "\n",
        "categories = np.array(['Low', 'High']).reshape(-1, 1)\n",
        "encoder = OneHotEncoder(dtype=np.float32)\n",
        "encoder.fit(categories)\n",
        "\n",
        "train_dataset = KukaDataset(os.path.join(os.getcwd(),TRAIN_DATA_PATH), test=False, config=config, keep_faulty=False, risk_encoder=encoder, drop_default=True)\n",
        "#print(train_dataset.kept_columns)\n",
        "cal_dataset = KukaDataset(os.path.join(os.getcwd(),CAL_DATA_PATH), test=False, config=config, keep_faulty=True, drop_default=True,\n",
        "                          columns_to_keep=train_dataset.kept_columns, risk_encoder=encoder)\n",
        "test_dataset = KukaDataset(os.path.join(os.getcwd(),TEST_DATA_PATH), test=True, config=config, keep_faulty=True, drop_default=True,\n",
        "                          columns_to_keep=train_dataset.kept_columns, risk_encoder=encoder)\n",
        "config['dataset']['in_channels'] = len(train_dataset.kept_columns) - len(train_dataset.header_columns) - 1"
      ]
    },
    {
      "cell_type": "code",
      "execution_count": null,
      "metadata": {
        "cellView": "form",
        "id": "_MqPoKDc5G0y"
      },
      "outputs": [],
      "source": [
        "#@title Data Loaders...\n",
        "batch_size = config['dataset']['batch_sizes']['stage1']\n",
        "\n",
        "train_data_loader = DataLoader(train_dataset, batch_size=batch_size, shuffle=True)\n",
        "cal_data_loader = DataLoader(cal_dataset, batch_size=1)\n",
        "test_data_loader = DataLoader(test_dataset, batch_size=1)"
      ]
    },
    {
      "cell_type": "code",
      "execution_count": null,
      "metadata": {
        "colab": {
          "base_uri": "https://localhost:8080/"
        },
        "id": "cqVI6-CzDyDF",
        "outputId": "7b4b09e7-53de-4e5d-d35c-3671b1ee9aa4"
      },
      "outputs": [
        {
          "data": {
            "text/plain": [
              "(100, 55)"
            ]
          },
          "execution_count": 13,
          "metadata": {},
          "output_type": "execute_result"
        }
      ],
      "source": [
        "config['trainer_params']['input_length'], config['dataset']['in_channels']"
      ]
    },
    {
      "cell_type": "code",
      "execution_count": null,
      "metadata": {
        "cellView": "form",
        "colab": {
          "base_uri": "https://localhost:8080/"
        },
        "id": "m2QsmN_c3zy5",
        "outputId": "6e7bb207-97ef-49f6-f4ce-5e889dd0aebd"
      },
      "outputs": [
        {
          "data": {
            "text/plain": [
              "ExpVQVAE(\n",
              "  (encoder_l): VQVAEEncoder(\n",
              "    (encoder): Sequential(\n",
              "      (0): VQVAEEncBlock(\n",
              "        (block): Sequential(\n",
              "          (0): Conv2d(110, 128, kernel_size=(3, 4), stride=(1, 2), padding=(1, 1), padding_mode=replicate)\n",
              "          (1): BatchNorm2d(128, eps=1e-05, momentum=0.1, affine=True, track_running_stats=True)\n",
              "          (2): LeakyReLU(negative_slope=0.01, inplace=True)\n",
              "        )\n",
              "      )\n",
              "      (1): VQVAEEncBlock(\n",
              "        (block): Sequential(\n",
              "          (0): Conv2d(128, 128, kernel_size=(3, 4), stride=(1, 2), padding=(1, 1), padding_mode=replicate)\n",
              "          (1): BatchNorm2d(128, eps=1e-05, momentum=0.1, affine=True, track_running_stats=True)\n",
              "          (2): LeakyReLU(negative_slope=0.01, inplace=True)\n",
              "        )\n",
              "      )\n",
              "      (2): Sequential(\n",
              "        (0): ResBlock(\n",
              "          (convs): Sequential(\n",
              "            (0): LeakyReLU(negative_slope=0.01)\n",
              "            (1): Conv2d(128, 128, kernel_size=(3, 3), stride=(1, 1), padding=(1, 1))\n",
              "            (2): BatchNorm2d(128, eps=1e-05, momentum=0.1, affine=True, track_running_stats=True)\n",
              "            (3): LeakyReLU(negative_slope=0.01)\n",
              "            (4): Conv2d(128, 128, kernel_size=(1, 1), stride=(1, 1))\n",
              "          )\n",
              "        )\n",
              "        (1): BatchNorm2d(128, eps=1e-05, momentum=0.1, affine=True, track_running_stats=True)\n",
              "      )\n",
              "      (3): Sequential(\n",
              "        (0): ResBlock(\n",
              "          (convs): Sequential(\n",
              "            (0): LeakyReLU(negative_slope=0.01)\n",
              "            (1): Conv2d(128, 128, kernel_size=(3, 3), stride=(1, 1), padding=(1, 1))\n",
              "            (2): BatchNorm2d(128, eps=1e-05, momentum=0.1, affine=True, track_running_stats=True)\n",
              "            (3): LeakyReLU(negative_slope=0.01)\n",
              "            (4): Conv2d(128, 128, kernel_size=(1, 1), stride=(1, 1))\n",
              "          )\n",
              "        )\n",
              "        (1): BatchNorm2d(128, eps=1e-05, momentum=0.1, affine=True, track_running_stats=True)\n",
              "      )\n",
              "      (4): Sequential(\n",
              "        (0): ResBlock(\n",
              "          (convs): Sequential(\n",
              "            (0): LeakyReLU(negative_slope=0.01)\n",
              "            (1): Conv2d(128, 128, kernel_size=(3, 3), stride=(1, 1), padding=(1, 1))\n",
              "            (2): BatchNorm2d(128, eps=1e-05, momentum=0.1, affine=True, track_running_stats=True)\n",
              "            (3): LeakyReLU(negative_slope=0.01)\n",
              "            (4): Conv2d(128, 128, kernel_size=(1, 1), stride=(1, 1))\n",
              "          )\n",
              "        )\n",
              "        (1): BatchNorm2d(128, eps=1e-05, momentum=0.1, affine=True, track_running_stats=True)\n",
              "      )\n",
              "      (5): Sequential(\n",
              "        (0): ResBlock(\n",
              "          (convs): Sequential(\n",
              "            (0): LeakyReLU(negative_slope=0.01)\n",
              "            (1): Conv2d(128, 128, kernel_size=(3, 3), stride=(1, 1), padding=(1, 1))\n",
              "            (2): BatchNorm2d(128, eps=1e-05, momentum=0.1, affine=True, track_running_stats=True)\n",
              "            (3): LeakyReLU(negative_slope=0.01)\n",
              "            (4): Conv2d(128, 128, kernel_size=(1, 1), stride=(1, 1))\n",
              "          )\n",
              "        )\n",
              "        (1): BatchNorm2d(128, eps=1e-05, momentum=0.1, affine=True, track_running_stats=True)\n",
              "      )\n",
              "    )\n",
              "  )\n",
              "  (decoder_l): VQVAEDecoder(\n",
              "    (decoder): Sequential(\n",
              "      (0): Sequential(\n",
              "        (0): ResBlock(\n",
              "          (convs): Sequential(\n",
              "            (0): LeakyReLU(negative_slope=0.01)\n",
              "            (1): Conv2d(128, 128, kernel_size=(3, 3), stride=(1, 1), padding=(1, 1))\n",
              "            (2): LeakyReLU(negative_slope=0.01)\n",
              "            (3): Conv2d(128, 128, kernel_size=(1, 1), stride=(1, 1))\n",
              "          )\n",
              "        )\n",
              "        (1): BatchNorm2d(128, eps=1e-05, momentum=0.1, affine=True, track_running_stats=True)\n",
              "      )\n",
              "      (1): Sequential(\n",
              "        (0): ResBlock(\n",
              "          (convs): Sequential(\n",
              "            (0): LeakyReLU(negative_slope=0.01)\n",
              "            (1): Conv2d(128, 128, kernel_size=(3, 3), stride=(1, 1), padding=(1, 1))\n",
              "            (2): LeakyReLU(negative_slope=0.01)\n",
              "            (3): Conv2d(128, 128, kernel_size=(1, 1), stride=(1, 1))\n",
              "          )\n",
              "        )\n",
              "        (1): BatchNorm2d(128, eps=1e-05, momentum=0.1, affine=True, track_running_stats=True)\n",
              "      )\n",
              "      (2): Sequential(\n",
              "        (0): ResBlock(\n",
              "          (convs): Sequential(\n",
              "            (0): LeakyReLU(negative_slope=0.01)\n",
              "            (1): Conv2d(128, 128, kernel_size=(3, 3), stride=(1, 1), padding=(1, 1))\n",
              "            (2): LeakyReLU(negative_slope=0.01)\n",
              "            (3): Conv2d(128, 128, kernel_size=(1, 1), stride=(1, 1))\n",
              "          )\n",
              "        )\n",
              "        (1): BatchNorm2d(128, eps=1e-05, momentum=0.1, affine=True, track_running_stats=True)\n",
              "      )\n",
              "      (3): Sequential(\n",
              "        (0): ResBlock(\n",
              "          (convs): Sequential(\n",
              "            (0): LeakyReLU(negative_slope=0.01)\n",
              "            (1): Conv2d(128, 128, kernel_size=(3, 3), stride=(1, 1), padding=(1, 1))\n",
              "            (2): LeakyReLU(negative_slope=0.01)\n",
              "            (3): Conv2d(128, 128, kernel_size=(1, 1), stride=(1, 1))\n",
              "          )\n",
              "        )\n",
              "        (1): BatchNorm2d(128, eps=1e-05, momentum=0.1, affine=True, track_running_stats=True)\n",
              "      )\n",
              "      (4): VQVAEDecBlock(\n",
              "        (block): Sequential(\n",
              "          (0): ConvTranspose2d(128, 128, kernel_size=(3, 4), stride=(1, 2), padding=(1, 1))\n",
              "          (1): BatchNorm2d(128, eps=1e-05, momentum=0.1, affine=True, track_running_stats=True)\n",
              "          (2): LeakyReLU(negative_slope=0.01, inplace=True)\n",
              "        )\n",
              "      )\n",
              "      (5): ConvTranspose2d(128, 110, kernel_size=(3, 4), stride=(1, 2), padding=(1, 1))\n",
              "      (6): ConvTranspose2d(110, 110, kernel_size=(3, 4), stride=(1, 2), padding=(1, 1))\n",
              "    )\n",
              "  )\n",
              "  (vq_model_l): VectorQuantize(\n",
              "    (project_in): Linear(in_features=128, out_features=64, bias=True)\n",
              "    (project_out): Linear(in_features=64, out_features=128, bias=True)\n",
              "    (_codebook): EuclideanCodebook()\n",
              "  )\n",
              "  (encoder_h): VQVAEEncoder(\n",
              "    (encoder): Sequential(\n",
              "      (0): VQVAEEncBlock(\n",
              "        (block): Sequential(\n",
              "          (0): Conv2d(110, 128, kernel_size=(3, 4), stride=(1, 2), padding=(1, 1), padding_mode=replicate)\n",
              "          (1): BatchNorm2d(128, eps=1e-05, momentum=0.1, affine=True, track_running_stats=True)\n",
              "          (2): LeakyReLU(negative_slope=0.01, inplace=True)\n",
              "        )\n",
              "      )\n",
              "      (1): Sequential(\n",
              "        (0): ResBlock(\n",
              "          (convs): Sequential(\n",
              "            (0): LeakyReLU(negative_slope=0.01)\n",
              "            (1): Conv2d(128, 128, kernel_size=(3, 3), stride=(1, 1), padding=(1, 1))\n",
              "            (2): BatchNorm2d(128, eps=1e-05, momentum=0.1, affine=True, track_running_stats=True)\n",
              "            (3): LeakyReLU(negative_slope=0.01)\n",
              "            (4): Conv2d(128, 128, kernel_size=(1, 1), stride=(1, 1))\n",
              "          )\n",
              "        )\n",
              "        (1): BatchNorm2d(128, eps=1e-05, momentum=0.1, affine=True, track_running_stats=True)\n",
              "      )\n",
              "      (2): Sequential(\n",
              "        (0): ResBlock(\n",
              "          (convs): Sequential(\n",
              "            (0): LeakyReLU(negative_slope=0.01)\n",
              "            (1): Conv2d(128, 128, kernel_size=(3, 3), stride=(1, 1), padding=(1, 1))\n",
              "            (2): BatchNorm2d(128, eps=1e-05, momentum=0.1, affine=True, track_running_stats=True)\n",
              "            (3): LeakyReLU(negative_slope=0.01)\n",
              "            (4): Conv2d(128, 128, kernel_size=(1, 1), stride=(1, 1))\n",
              "          )\n",
              "        )\n",
              "        (1): BatchNorm2d(128, eps=1e-05, momentum=0.1, affine=True, track_running_stats=True)\n",
              "      )\n",
              "      (3): Sequential(\n",
              "        (0): ResBlock(\n",
              "          (convs): Sequential(\n",
              "            (0): LeakyReLU(negative_slope=0.01)\n",
              "            (1): Conv2d(128, 128, kernel_size=(3, 3), stride=(1, 1), padding=(1, 1))\n",
              "            (2): BatchNorm2d(128, eps=1e-05, momentum=0.1, affine=True, track_running_stats=True)\n",
              "            (3): LeakyReLU(negative_slope=0.01)\n",
              "            (4): Conv2d(128, 128, kernel_size=(1, 1), stride=(1, 1))\n",
              "          )\n",
              "        )\n",
              "        (1): BatchNorm2d(128, eps=1e-05, momentum=0.1, affine=True, track_running_stats=True)\n",
              "      )\n",
              "      (4): Sequential(\n",
              "        (0): ResBlock(\n",
              "          (convs): Sequential(\n",
              "            (0): LeakyReLU(negative_slope=0.01)\n",
              "            (1): Conv2d(128, 128, kernel_size=(3, 3), stride=(1, 1), padding=(1, 1))\n",
              "            (2): BatchNorm2d(128, eps=1e-05, momentum=0.1, affine=True, track_running_stats=True)\n",
              "            (3): LeakyReLU(negative_slope=0.01)\n",
              "            (4): Conv2d(128, 128, kernel_size=(1, 1), stride=(1, 1))\n",
              "          )\n",
              "        )\n",
              "        (1): BatchNorm2d(128, eps=1e-05, momentum=0.1, affine=True, track_running_stats=True)\n",
              "      )\n",
              "    )\n",
              "  )\n",
              "  (decoder_h): VQVAEDecoder(\n",
              "    (decoder): Sequential(\n",
              "      (0): Sequential(\n",
              "        (0): ResBlock(\n",
              "          (convs): Sequential(\n",
              "            (0): LeakyReLU(negative_slope=0.01)\n",
              "            (1): Conv2d(128, 128, kernel_size=(3, 3), stride=(1, 1), padding=(1, 1))\n",
              "            (2): LeakyReLU(negative_slope=0.01)\n",
              "            (3): Conv2d(128, 128, kernel_size=(1, 1), stride=(1, 1))\n",
              "          )\n",
              "        )\n",
              "        (1): BatchNorm2d(128, eps=1e-05, momentum=0.1, affine=True, track_running_stats=True)\n",
              "      )\n",
              "      (1): Sequential(\n",
              "        (0): ResBlock(\n",
              "          (convs): Sequential(\n",
              "            (0): LeakyReLU(negative_slope=0.01)\n",
              "            (1): Conv2d(128, 128, kernel_size=(3, 3), stride=(1, 1), padding=(1, 1))\n",
              "            (2): LeakyReLU(negative_slope=0.01)\n",
              "            (3): Conv2d(128, 128, kernel_size=(1, 1), stride=(1, 1))\n",
              "          )\n",
              "        )\n",
              "        (1): BatchNorm2d(128, eps=1e-05, momentum=0.1, affine=True, track_running_stats=True)\n",
              "      )\n",
              "      (2): Sequential(\n",
              "        (0): ResBlock(\n",
              "          (convs): Sequential(\n",
              "            (0): LeakyReLU(negative_slope=0.01)\n",
              "            (1): Conv2d(128, 128, kernel_size=(3, 3), stride=(1, 1), padding=(1, 1))\n",
              "            (2): LeakyReLU(negative_slope=0.01)\n",
              "            (3): Conv2d(128, 128, kernel_size=(1, 1), stride=(1, 1))\n",
              "          )\n",
              "        )\n",
              "        (1): BatchNorm2d(128, eps=1e-05, momentum=0.1, affine=True, track_running_stats=True)\n",
              "      )\n",
              "      (3): Sequential(\n",
              "        (0): ResBlock(\n",
              "          (convs): Sequential(\n",
              "            (0): LeakyReLU(negative_slope=0.01)\n",
              "            (1): Conv2d(128, 128, kernel_size=(3, 3), stride=(1, 1), padding=(1, 1))\n",
              "            (2): LeakyReLU(negative_slope=0.01)\n",
              "            (3): Conv2d(128, 128, kernel_size=(1, 1), stride=(1, 1))\n",
              "          )\n",
              "        )\n",
              "        (1): BatchNorm2d(128, eps=1e-05, momentum=0.1, affine=True, track_running_stats=True)\n",
              "      )\n",
              "      (4): ConvTranspose2d(128, 110, kernel_size=(3, 4), stride=(1, 2), padding=(1, 1))\n",
              "      (5): ConvTranspose2d(110, 110, kernel_size=(3, 4), stride=(1, 2), padding=(1, 1))\n",
              "    )\n",
              "  )\n",
              "  (vq_model_h): VectorQuantize(\n",
              "    (project_in): Linear(in_features=128, out_features=64, bias=True)\n",
              "    (project_out): Linear(in_features=64, out_features=128, bias=True)\n",
              "    (_codebook): EuclideanCodebook()\n",
              "  )\n",
              ")"
            ]
          },
          "execution_count": 14,
          "metadata": {},
          "output_type": "execute_result"
        }
      ],
      "source": [
        "#@title Loading TimeVQVAE\n",
        "exp_vqvae = ExpVQVAE(config['trainer_params']['input_length'], config, len(train_data_loader.dataset))\n",
        "\n",
        "models_dir = 'saved_models_55ft_w100'\n",
        "#models_dir = 'saved_models_70ft_w100'\n",
        "CKPT_PATH = '/content/OurProject/trained_models/TimeVQVAE'\n",
        "\n",
        "# load\n",
        "fname = f'vq_model_l-{dataset_name}.ckpt'\n",
        "ckpt_fname = os.path.join(os.path.join(os.getcwd(),CKPT_PATH), models_dir, fname)\n",
        "exp_vqvae.vq_model_l.load_state_dict(torch.load(ckpt_fname), strict=False)\n",
        "fname = f'vq_model_h-{dataset_name}.ckpt'\n",
        "ckpt_fname = os.path.join(os.path.join(os.getcwd(),CKPT_PATH), models_dir, fname)\n",
        "exp_vqvae.vq_model_h.load_state_dict(torch.load(ckpt_fname), strict=False)\n",
        "fname = f'encoder_l-{dataset_name}.ckpt'\n",
        "ckpt_fname = os.path.join(os.path.join(os.getcwd(),CKPT_PATH), models_dir, fname)\n",
        "exp_vqvae.encoder_l.load_state_dict(torch.load(ckpt_fname), strict=False)\n",
        "fname = f'encoder_h-{dataset_name}.ckpt'\n",
        "ckpt_fname = os.path.join(os.path.join(os.getcwd(),CKPT_PATH), models_dir, fname)\n",
        "exp_vqvae.encoder_h.load_state_dict(torch.load(ckpt_fname), strict=False)\n",
        "fname = f'decoder_l-{dataset_name}.ckpt'\n",
        "ckpt_fname = os.path.join(os.path.join(os.getcwd(),CKPT_PATH), models_dir, fname)\n",
        "exp_vqvae.decoder_l.load_state_dict(torch.load(ckpt_fname), strict=False)\n",
        "fname = f'decoder_h-{dataset_name}.ckpt'\n",
        "ckpt_fname = os.path.join(os.path.join(os.getcwd(),CKPT_PATH), models_dir, fname)\n",
        "exp_vqvae.decoder_h.load_state_dict(torch.load(ckpt_fname), strict=False)\n",
        "\n",
        "exp_vqvae.eval()"
      ]
    },
    {
      "cell_type": "code",
      "execution_count": null,
      "metadata": {
        "colab": {
          "base_uri": "https://localhost:8080/"
        },
        "id": "vvPCVEvv374X",
        "outputId": "c4d5df7f-9e74-48b5-ccfc-6d83a4f9ddaf"
      },
      "outputs": [
        {
          "name": "stderr",
          "output_type": "stream",
          "text": [
            "100%|██████████| 33978/33978 [19:07<00:00, 29.60it/s]\n"
          ]
        }
      ],
      "source": [
        "#@title Estimates for calibration...\n",
        "# KEEP BATCH SIZE = 1 HERE, PLEASE\n",
        "#mapping = {1: 'Low', 0: 'High'}\n",
        "all_losses = []\n",
        "window_label_pos = config['trainer_params']['input_length'] - 1\n",
        "for batch in tqdm(cal_data_loader): #iterating through test ds with step B\n",
        "\n",
        "    x , y = batch[0], batch[1]\n",
        "    #x = x.to(gpu_device_idx) #comment if using the CPU\n",
        "\n",
        "    recons_loss, _, _ = exp_vqvae.forward((x,))\n",
        "\n",
        "    lf_time = recons_loss['LF.time'].detach().item()\n",
        "    hf_time = recons_loss['HF.time'].detach().item()\n",
        "    lf_timefreq = recons_loss['LF.timefreq'].detach().item()\n",
        "    hf_timefreq = recons_loss['HF.timefreq'].detach().item()\n",
        "\n",
        "    #print(y.shape)\n",
        "    #curr_label = mapping[torch.argmax(y[0, :, 0]).item()]\n",
        "    curr_label_encoded = y[0, :, 0].unsqueeze(0).numpy()\n",
        "    curr_label = encoder.inverse_transform(curr_label_encoded)[0, 0]\n",
        "\n",
        "    all_losses.append((np.array([lf_time, hf_time, lf_timefreq, hf_timefreq]), curr_label))\n",
        "\n",
        "# Separate the data and labels\n",
        "data = [tup[0] for tup in all_losses]\n",
        "labels = [tup[1] for tup in all_losses]\n",
        "\n",
        "# Vstack the data to create a 2-dimensional numpy array\n",
        "data_array = np.vstack(data)\n",
        "\n",
        "# Convert the labels to a 1-dimensional numpy array\n",
        "labels_array = np.array(labels)"
      ]
    },
    {
      "cell_type": "code",
      "execution_count": null,
      "metadata": {
        "colab": {
          "base_uri": "https://localhost:8080/"
        },
        "id": "gOo4L7auMYP0",
        "outputId": "dbf4faf2-64fc-4d33-9302-ff54159451b8"
      },
      "outputs": [
        {
          "data": {
            "text/plain": [
              "((33978, 4), (33978,))"
            ]
          },
          "execution_count": 19,
          "metadata": {},
          "output_type": "execute_result"
        }
      ],
      "source": [
        "data_array.shape, labels_array.shape"
      ]
    },
    {
      "cell_type": "code",
      "execution_count": null,
      "metadata": {
        "colab": {
          "base_uri": "https://localhost:8080/"
        },
        "id": "Esnmz3uNNpH4",
        "outputId": "f44f826e-86ad-4e95-d036-c6cad243f340"
      },
      "outputs": [
        {
          "name": "stdout",
          "output_type": "stream",
          "text": [
            "Fitting 3 folds for each of 36 candidates, totalling 108 fits\n"
          ]
        }
      ],
      "source": [
        "optimize = True\n",
        "param_grid = {'estimator__C': np.logspace(0, 5, 6), 'estimator__gamma': np.logspace(-5, 0, 6)}\n",
        "\n",
        "if optimize:\n",
        "  cal_search = GridSearchCV(CalibratedClassifierCV(SVC(probability=True), cv=3), param_grid, cv=3, verbose=1, scoring='f1')\n",
        "  cal_search.fit(data_array, labels_array)\n",
        "  cal_vqvae = cal_search.best_estimator_\n",
        "  print(cal_search.best_params_)\n",
        "else:\n",
        "  cal_vqvae = CalibratedClassifierCV(SVC(probability=True, C=10, gamma=1e-3))\n",
        "  cal_vqvae.fit(data_array, labels_array[:data_array.shape[0]])"
      ]
    },
    {
      "cell_type": "markdown",
      "metadata": {
        "id": "ULIJv9Yc6dAs"
      },
      "source": [
        "# Telemanom\n",
        "\n"
      ]
    },
    {
      "cell_type": "markdown",
      "metadata": {
        "id": "G5XtZ7fWs9LV"
      },
      "source": [
        "The Telemanom model utilizes Long Short-Term Memory (LSTM) neural networks to manage and analyze large volumes of telemetry data. This approach demonstrates how such networks can effectively handle the complexity and scale of the data. An innovative, unsupervised, and nonparametric method for setting anomaly thresholds has been introduced, designed during a pilot implementation for effective anomaly detection. The model also includes strategies to minimize false positives and presents key insights and lessons learned during development. The original model has been modified to accept various configuration parameters directly as arguments at model startup, and it has been converted from TensorFlow to PyTorch. [Link original paper](https://arxiv.org/pdf/1802.04431)\n"
      ]
    },
    {
      "cell_type": "markdown",
      "metadata": {
        "id": "6JpBRDmG7pgF"
      },
      "source": [
        "**Model Training**\n",
        "---\n",
        "\n",
        "The model undergoes a training phase of 20 epochs for each channel. During this training phase, the model learns the normal behavior of the channel by predicting the current timestamp, considering approximately 300 samples from previous timestamps (a hyperparameter) for prediction. Before the training phase, each channel undergoes a model weight calibration. Once the training cycles for each channel are completed, inference is conducted using a dataset containing anomalies to determine if the learned normal behavior deviates from that observed in the anomaly dataset. The various anomalies predicted across the channels are then summed and pruned based on their scores; anomalies falling below a dynamically calculated threshold are disregarded.\n",
        "\n",
        "Below the list of arguments accepted by the model:\n",
        "\n",
        "1. `--run_id`: Specifies a directory path in the format `trained_models/telemanom/{run_id}` to locate parameters for initialization. (Type: string, Default: None)\n",
        "2. `--batch_size`: Number of values to evaluate in each batch. (Type: integer)\n",
        "3. `--window_size`: Number of consecutive batches used in the calculation of errors. (Type: integer)\n",
        "4. `--smoothing_perc`: Determines the size of the window used in EWMA smoothing. (Type: float)\n",
        "5. `--error_buffer`: Number of values surrounding an error that are included in the sequence. (Type: integer)\n",
        "6. `--l_s`: Minimum number of precedent telemetry data required for analysis. (Type: integer)\n",
        "7. `--n_predictions`: Number of predictions per timestamp. (Type: integer)\n",
        "8. `--activation`: Specifies the activation layer used in the model. (Type: string, Options : [\"relu\",\"sigmoid\",\"leakyReLu\"])\n",
        "10. `--dropout`: Determines the dropout rate for various layers in the model. (Type: float)\n",
        "11. `--weight_decay`: Specifies L2 regularization. (Type: float)\n",
        "12. `--learning_rate`: Learning rate for the model. (Type: float)\n",
        "13. `--lstm_batch_size`: Batch size for LSTM layers. (Type: integer)\n",
        "14. `--layer_LSTM`: Specifies the number of LSTM layers to include in the model. (Type: integer)\n",
        "15. `--epochs`: Number of epochs for training. (Type: integer)\n",
        "16. `--p`: Minimum percentage decrease between the maximum errors in anomalous sequences. (Type: float)\n",
        "17. `--save_on_drive`: If set, saves information on the connected drive. (Action: store_true)\n",
        "18. `--skip_graphics`: If set, avoids creating graphical files for results. (Action: store_true)\n",
        "20. `--train`: If set, applies training to the model. (Action: store_true)\n",
        "21. `--predict`: Forces the model to generate new predictions; if not set, uses predictions from the `trained_models/telemanom/{run_id}`. (Action: store_true)\n",
        "22. `--num_channels`: Number of channels to consider. (Type: integer)\n",
        "23. `--threshold`: If set, calculates a dynamic threshold for the final anomalies. (Action: store_true)\n",
        "\n",
        "These parameters provide detailed control over the model's configuration and operation, catering to a wide range of needs and applications.\n",
        "\n",
        "**Note:** When the `--train` parameter is passed, the model is forced to execute the training phase. However, if there are existing model weights from a previous training session in the path `trained_models/telemanom/{run_id}`, those weights will be retrieved. Passing the `--train` parameter will cause the model to perform both the training phase and the final inference. It is important to note that the duration of the training phase can vary depending on the `--layer_LSTM` parameter and the number of layers per each LSTM, which is a hyperparameter defined in the model's `config.yaml`. Increasing the number of LSTM layers and the number of layers per LSTM can significantly alter the time required for training the model."
      ]
    },
    {
      "cell_type": "code",
      "execution_count": null,
      "metadata": {
        "id": "21J5ucoxFK7B"
      },
      "outputs": [],
      "source": [
        "!python \"/content/OurProject/Models/telemanom/main.py\" --train --predict --threshold --sample_rate 0.1s"
      ]
    },
    {
      "cell_type": "markdown",
      "metadata": {
        "id": "bqk7fJwAD6Im"
      },
      "source": [
        "**Model Inference**\n",
        "\n",
        "If you wish to execute only the inference phase, bypassing the training phase, you must remove the `--train` parameter from the arguments (which otherwise forces the model to perform the training). However, to properly conduct the inference phase, the folder `trained_models/telemanom/{run_id}` must exist and contain at least the subfolders \"models\" (which holds the model weights for each channel) and \"y_hat\" (the predictions made by the model for various timestamps). If the `--predict` argument is passed, the model will load the channel-specific model weights from `trained_models/telemanom/{run_id}/models` to make predictions. If `--predict` is not passed, it will retrieve previous predictions from `trained_models/telemanom/{run_id}/y_hat` to calculate the model's accuracy without recalculating the prediction.\n",
        "\n",
        "Furthermore, the model saves configuration information and details about the model (such as the number of LSTM layers used and the number of layers per LSTM) in the path `trained_models/telemanom/{run_id}/info_model/info_model.txt`. For each step, the model saves both on-screen and in a log file the various outputs obtained during the run (log path: `trained_models/telemanom/{run_id}/{run_id}.log`).\n",
        "\n",
        "To aid in visually understanding the prediction results of anomalies, logic has been implemented that saves a graph of both actual and predicted anomalies for each channel during the inference phase. Additionally, the various predictions are summed and pruned according to their score. The pruning of anomalies only occurs if the `--threshold` argument is passed; otherwise, the final anomaly pruning does not take place. The graphical results obtained for the various channels and the final model outcome are saved as .pdf files in the path `trained_models/telemanom/{run_id}/plot_predictions/`.\n",
        "\n",
        "It is recommended to refer to both the on-screen logs and those saved in log files (which have the same results) for a better understanding of the model's behavior and to know where the various model results are stored; they should be comprehensive."
      ]
    },
    {
      "cell_type": "code",
      "execution_count": null,
      "metadata": {
        "id": "ad7iwctWMc10"
      },
      "outputs": [],
      "source": [
        "!python \"/content/OurProject/Models/telemanom/main.py\" --predict --threshold --sample_rate 0.1s --run_id \"2024-07-30_22.17.34\""
      ]
    }
  ],
  "metadata": {
    "accelerator": "GPU",
    "colab": {
      "gpuType": "T4",
      "provenance": []
    },
    "kernelspec": {
      "display_name": "Python 3",
      "name": "python3"
    },
    "language_info": {
      "name": "python"
    }
  },
  "nbformat": 4,
  "nbformat_minor": 0
}
